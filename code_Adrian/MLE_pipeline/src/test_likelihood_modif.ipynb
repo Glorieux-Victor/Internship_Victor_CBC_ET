{
 "cells": [
  {
   "cell_type": "markdown",
   "id": "dbda8440-ea28-423a-9753-69a332646d34",
   "metadata": {},
   "source": [
    "# Test `MDCGaussianNoise`\n",
    "\n",
    "This notebook tests the class `MDCGaussianNoise` implemented in `likelihood.py`.\n",
    "\n",
    "**Input needed by `MDCGaussianNoise`:**\n",
    "* data : the data segment that we want to analyze. The format should be a dict() where each key represents one detector. The data for each detector should be a pycbc FrequencySeries.\n",
    "* psd : the PSD of the noise (can be estimated or provided, for the moment we just provide it). Same format as *data*.\n",
    "\n",
    "Use `data, psd = get_data.convert_to_frequency_series_with_psd(time_series, return_psd=True)` to get data and psd with the correct format from a dictionary containing gwpy time series read .gwf files.\n",
    "\n",
    "* variable_params : a list of parameters over which we want to maximize. In the most general case it should be ['mass1', 'mass2', 'spin1z', 'spin2z', 'distance', 'polarization', 'inclination', 'tc', 'coa_phase', 'ra', 'dec'], but it is possible to reduce the number of variable parameters to make tests for example.\n",
    "* static_params : a dictionary containing the parameters for which the values are already fixed (in general the spins along the x and y axes).\n",
    "\n",
    "Note that all 15 CBC parameters must be defined, either in *variable_params* or in *static_params*.\n",
    "\n",
    "* approximant and fmin should be defined (the default values 'IMRPhenomXPHM' and 5 Hz are fine).\n",
    "\n",
    "**Optional input:** these are just for testing to compare the values of the parameters we recover to the injected values.\n",
    "* injection_params : a dictionary contaning the parameters of the injected signal if we know them.\n",
    "* injection_network_snr : the network SNR of the signal, as listed in the list of MDC signal (2nd column from the end).\n",
    "\n",
    "**Input needed by `maximize`:**\n",
    "For each variable parameter, bounds must be provided.\n",
    "\n",
    "*Warning:* mass1 and mass2 bounds should be replaced with chirp mass and mass ratio.\n",
    "\n",
    "## Example of workflow\n",
    "#### Run within the IJCLab server :\n",
    "1. Extract signal from MDC data using `extraction_temps()` and write it on a file.\n",
    "#### Run within the local environment (faster than the server) :\n",
    "2. Read MDC data from the file and prepare frequency domain data and PSD using `get_data.convert_to_frequency_series_with_psd()`.\n",
    "3. Define variable and static params and instanciate a MDCGaussianNoise object.\n",
    "4. Define bounds for each variable parameter and run the maximisation algorithm with `minimisation_globale` from `likelihood_calculation.py` or `.maximize()` directly from the class MDCGaussianNoise.\n",
    "5. Compare the original data and the reconstructed signal."
   ]
  },
  {
   "cell_type": "code",
   "execution_count": 1,
   "id": "e168612b-2e51-40d7-99bd-2eb34df739a5",
   "metadata": {},
   "outputs": [
    {
     "name": "stderr",
     "output_type": "stream",
     "text": [
      "/home/victor/miniconda3/envs/pycbc_env/lib/python3.9/site-packages/pykerr/qnm.py:2: UserWarning: pkg_resources is deprecated as an API. See https://setuptools.pypa.io/en/latest/pkg_resources.html. The pkg_resources package is slated for removal as early as 2025-11-30. Refrain from using this package or pin to Setuptools<81.\n",
      "  import pkg_resources\n"
     ]
    }
   ],
   "source": [
    "from generate_data import generate_frequency_domain_signal, default_cbc_params\n",
    "from get_data import get_psd_frequency_series, read_MDC_data, convert_to_frequency_series_with_psd, convert_data_dict_to_frequency_series_dict\n",
    "from likelihood import MDCGaussianNoise, subtract_signal\n",
    "from plot_results import convert_signal, comparison_signals, comparison_freq, qtrans_plot, gwpy_to_pycbc, pycbc_to_gwpy\n",
    "import matplotlib.pyplot as plt\n",
    "import matplotlib as mpl\n",
    "import numpy as np\n",
    "import pandas as pd\n",
    "import time\n",
    "mpl.rcParams['xtick.labelsize'] = 12\n",
    "mpl.rcParams['ytick.labelsize'] = 12\n",
    "mpl.rcParams['axes.labelsize'] = 14\n",
    "mpl.rcParams['axes.titlesize'] = 16\n",
    "mpl.rcParams['legend.fontsize'] = 14\n",
    "mpl.rcParams['font.size'] = 14  # global font size\n",
    "from gwpy.timeseries import TimeSeries\n",
    "from pycbc.types import FrequencySeries\n",
    "from pycbc.types import TimeSeries as PycbcTimeSeries\n",
    "from pycbc.conversions import mchirp_from_mass1_mass2, q_from_mass1_mass2, mass1_from_mchirp_q, mass2_from_mchirp_q\n",
    "import sys\n",
    "sys.path.append('/home/victor-glorieux/Internship_Victor_CBC_ET')\n",
    "sys.path.append('/home/victor/Internship_Victor_CBC_ET')\n",
    "from likelihood_calculation import minimisation_locale, minimisation_globale\n",
    "from fonctions import extraction_temps, extract_mchirp_tc_spectro\n",
    "from plot_functions import plot_mnimisation, plot_correlation_2_params"
   ]
  },
  {
   "cell_type": "markdown",
   "id": "4d01151c-4576-496b-bd79-6d64efcd5b74",
   "metadata": {},
   "source": [
    "## To test the method - Generate signal\n",
    "\n",
    "To generate a signal (in the frequency domain) using the functions defined in `generate_signal.py`."
   ]
  },
  {
   "cell_type": "code",
   "execution_count": null,
   "id": "0df670c9-fa91-472f-9333-b72865b14362",
   "metadata": {},
   "outputs": [],
   "source": [
    "cbc_params = {\n",
    "              'mass1': 38.6,\n",
    "              'mass2': 29.3,\n",
    "              'spin1x': 0., 'spin2x': 0.,  'spin1y': 0., 'spin2y': 0.,  'spin1z': 0, 'spin2z': 0, \n",
    "              'eccentricity': 0,\n",
    "              'ra': 1.37, 'dec': -1.26, 'distance': 10000, \n",
    "              'polarization': 2.76, 'inclination': 0,\n",
    "              'tc': 3.1 , 'coa_phase': 0.3,\n",
    "              'approximant': 'IMRPhenomXPHM',\n",
    "              'f_lower': 5\n",
    "                }\n",
    "signal = generate_frequency_domain_signal(cbc_params, ifos=['E1', 'E2', 'E3'])"
   ]
  },
  {
   "cell_type": "markdown",
   "id": "e3798205",
   "metadata": {},
   "source": [
    "## 1 - Extract signal from MDC\n",
    "\n",
    "#### !! $\\underline{\\text{Run within the IJCLab server}}$ !!\n",
    "\n",
    "To read the signal between $t_\\text{\\ start}$ and $t_\\text{\\ stop}$ in the MDC using the functions defined in `get_data.py`. The data is stored in the $\\texttt{gwpy}$ TimeSeries format, in the folder `data`.\n",
    "\n",
    "The function `extraction_temps` from `fonctions.py` finds $t_0$ and $t_c$ for a specific signal thanks to `list_mdc1_v2.txt`. The type of the signal (1 : NS/NS, 2 : NS/BH, 3 : BH/BH) is asked. $\\texttt{indexes}$ is the list of signals we want to analyse with the SNR decreasing as the index increases (index $_\\text{min}$ = 0)."
   ]
  },
  {
   "cell_type": "code",
   "execution_count": null,
   "id": "eafaa42b",
   "metadata": {},
   "outputs": [],
   "source": [
    "init, final, t0_list, tc_list, interval, params_list = extraction_temps(indexes = [0], type = 2, print_ = False)\n",
    "print('Durations = ',tc_list - t0_list)"
   ]
  },
  {
   "cell_type": "code",
   "execution_count": null,
   "id": "8f22d26a",
   "metadata": {},
   "outputs": [],
   "source": [
    "#==========\n",
    "pourcentage = 80 #Pourcentage de la durée du signal que nous supprimons depuis t0.\n",
    "#==========\n",
    "\n",
    "\n",
    "Delta = ((tc_list[0] - t0_list[0])/100) * pourcentage\n",
    "t_start = t0_list[0] + Delta\n",
    "t_stop = tc_list[0] + 0.2\n",
    "\n",
    "ifos=['E1', 'E2', 'E3']\n",
    "data = read_MDC_data(t_start, t_stop)\n",
    "path_data_IJC = \"/home/victor-glorieux/Internship_Victor_CBC_ET/code_Adrian/MLE_pipeline/data/data_i0_t2/\"\n",
    "# for ifo in ifos :\n",
    "#     data[ifo].write(path_data_IJC + \"données_\" +  ifo + \".txt\")"
   ]
  },
  {
   "cell_type": "markdown",
   "id": "21cf41da",
   "metadata": {},
   "source": [
    "Test : Creation of the $\\texttt{MDCGaussianNoise}$ model defined in `likelihood.py` and data visualization in time domain."
   ]
  },
  {
   "cell_type": "code",
   "execution_count": null,
   "id": "afd1e485",
   "metadata": {},
   "outputs": [],
   "source": [
    "data_freq, psds = convert_data_dict_to_frequency_series_dict(data)\n",
    "model = MDCGaussianNoise(data_freq, psds)\n",
    "print(model.lognl)\n",
    "\n",
    "plt.figure()\n",
    "ax = plt.gca()\n",
    "ax.plot(data['E1'].times, data['E1'], label='E1')\n",
    "ax.plot(data['E2'].times, data['E2'], label='E2', alpha=0.7)\n",
    "ax.plot(data['E3'].times, data['E3'], label='E3', alpha=0.7)\n",
    "\n",
    "ax.set_xlabel('GPS time [s]')\n",
    "ax.set_ylabel('Strain')\n",
    "ax.legend()"
   ]
  },
  {
   "cell_type": "markdown",
   "id": "62d8fcec",
   "metadata": {},
   "source": [
    "## 2 - Read signal : from IJCLab server to local environment\n",
    "\n",
    "Convert the $\\texttt{gwpy}$ TimeSeries from the data stored to $\\texttt{pycbc}$ TimeSeries and FrequencySeries.\n",
    "\n",
    "- $\\texttt{gwpy}$ TimeSeries : data\n",
    "- $\\texttt{pycbc}$ TimeSeries : pycbc_ts\n",
    "- $\\texttt{pycbc}$ FrequencySeries : signal"
   ]
  },
  {
   "cell_type": "code",
   "execution_count": 2,
   "id": "41e5e7fe",
   "metadata": {},
   "outputs": [
    {
     "name": "stderr",
     "output_type": "stream",
     "text": [
      "/home/victor/miniconda3/envs/pycbc_env/lib/python3.9/site-packages/gwpy/timeseries/timeseries.py:930: UserWarning: resample() rate matches current sample_rate (4096.0 Hz), returning input data unmodified; please double-check your parameters\n",
      "  warnings.warn(\n",
      "/home/victor/miniconda3/envs/pycbc_env/lib/python3.9/site-packages/gwpy/timeseries/timeseries.py:930: UserWarning: resample() rate matches current sample_rate (4096.0 Hz), returning input data unmodified; please double-check your parameters\n",
      "  warnings.warn(\n"
     ]
    }
   ],
   "source": [
    "path_data_home = '/home/victor/Internship_Victor_CBC_ET/code_Adrian/MLE_pipeline/data/data_i0_t3/'\n",
    "data = {}\n",
    "signal = {}\n",
    "ifos=['E1', 'E2', 'E3']\n",
    "for ifo in ifos:\n",
    "    channel = ifo + ':STRAIN'\n",
    "    file = path_data_home + 'données_' + ifo + '.txt'\n",
    "    data[ifo] = TimeSeries.read(file)\n",
    "    data[ifo] = data[ifo].resample(4096)\n",
    "    val = data[ifo].value\n",
    "    delta_t = data[ifo].dt.value\n",
    "    pycbc_ts = PycbcTimeSeries(val, delta_t=delta_t)\n",
    "    signal[ifo] = pycbc_ts.to_frequencyseries()\n",
    "\n",
    "fft, psd = convert_to_frequency_series_with_psd(data['E1'], return_psd=True)\n",
    "data_freq, psds = convert_data_dict_to_frequency_series_dict(data)"
   ]
  },
  {
   "cell_type": "code",
   "execution_count": 3,
   "id": "766badd6",
   "metadata": {},
   "outputs": [
    {
     "name": "stdout",
     "output_type": "stream",
     "text": [
      "-281292.5762708248\n"
     ]
    }
   ],
   "source": [
    "model = MDCGaussianNoise(data_freq, psds)\n",
    "print(model.lognl)"
   ]
  },
  {
   "cell_type": "markdown",
   "id": "94205230-267a-4ef1-8110-3df820b235f1",
   "metadata": {},
   "source": [
    "## 3 - Create MDCGaussianNoise model\n",
    "\n",
    "#### ! $\\underline{\\text{Run within the local environment}}$ ! to gain efficiency.\n",
    "\n",
    "We instanciate an MDCGaussianNoise object with the signal we have generated and the PSD used for the ET MDC.\n",
    "\n",
    "Since there is no noise, we verify that the optimal log likelihood is 0 and the optimal log likelihood ratio corresponds to 1/2 of the network SNR. Here \"optimal\" means \"computed for the true parameters of the injected CBC signal\".\n",
    "\n",
    "**Variable and static parameters:**\n",
    "* Variable parameters are the ones that we want to maximize over. They are provided as a list.\n",
    "* Static parameters are fixed: they are provided as a dictionary with known values.\n",
    "\n",
    "All CBC parameters defined in *cbc_params* must be either in *variable_params* or defined in *static_params*. The approximant and lower frequency are always static."
   ]
  },
  {
   "cell_type": "code",
   "execution_count": null,
   "id": "2ee784a9-73d5-465b-aa54-72136677cd92",
   "metadata": {},
   "outputs": [
    {
     "name": "stdout",
     "output_type": "stream",
     "text": [
      "True signal parameters unknown. Cannot compute optimal likelihood.\n",
      "Optimal log likelihood ratio: -1.00\n"
     ]
    }
   ],
   "source": [
    "#psd = get_psd_frequency_series(signal['E1'].get_sample_frequencies(), signal['E1'].get_delta_f())\n",
    "#psds = {'E1': psd, 'E2': psd, 'E3': psd}\n",
    "\n",
    "cbc_params = {\n",
    "              'mass1': 38.6,\n",
    "              'mass2': 29.3,\n",
    "              'spin1x': 0., 'spin2x': 0.,  'spin1y': 0., 'spin2y': 0.,  'spin1z': 0, 'spin2z': 0, \n",
    "              'eccentricity': 0,\n",
    "              'ra': 1.37, 'dec': -1.26, 'distance': 10000, \n",
    "              'polarization': 2.76, 'inclination': 0,\n",
    "              'tc': 3.1 , 'coa_phase': 0.3,\n",
    "              'approximant': 'IMRPhenomXPHM',\n",
    "              'f_lower': 5\n",
    "                }\n",
    "\n",
    "variable_params = ['mass1', 'mass2','spin1z', 'spin2z', 'ra', 'dec', 'distance', 'polarization', 'inclination', 'tc', 'coa_phase']\n",
    "static_params = dict(cbc_params)\n",
    "for param in variable_params :\n",
    "    del static_params[param]\n",
    "\n",
    "\n",
    "# We know the signal parameters so we can define injection_params and compute optimal likelihoods\n",
    "model = MDCGaussianNoise(signal, psds, fmin=5, approximant='IMRPhenomXPHM', variable_params=variable_params,\\\n",
    "                         static_params=static_params)\n",
    "\n",
    "#optimal_loglr, optimal_loglikelihood = model.compute_optimal_likelihoods()\n",
    "#print('Optimal log likelihood ratio: ' + format(optimal_loglr, '.2f'))\n",
    "# print('Optimal log likelihood: ' + format(optimal_loglikelihood, '.2f'))\n",
    "\n",
    "#snr_network_sq = model.det_optimal_snrsq('E1') + model.det_optimal_snrsq('E2') + model.det_optimal_snrsq('E3')\n",
    "#print('1/2 network SNR: ' + format(0.5 * snr_network_sq, '.2f'))"
   ]
  },
  {
   "cell_type": "markdown",
   "id": "1ce800de-d0c8-4671-8f12-ad563e2fb9d1",
   "metadata": {},
   "source": [
    "## 4 - Maximize the likelihood\n",
    "\n",
    "The method `maximize()` calls `scipy.optimize.differential_evolution()`. We can specify the maximal number of iterations and the tolerance, which are parameters of `differential_evolution()`. This method automatically defines the bounds on the parameters over which to maximize, with a radius of 10% from the true values (for example if the true chirp mass is 30, it will restrict the chirp mass in the range 27, 33). When doing the full analysis of the MDC, we will use greater bounds since we are not supposed to know the true values of the injected signal."
   ]
  },
  {
   "cell_type": "code",
   "execution_count": null,
   "id": "7df4484d",
   "metadata": {},
   "outputs": [],
   "source": [
    "#============\n",
    "indexes = 0\n",
    "type = 3\n",
    "#============\n",
    "\n",
    "ET_params = pd.read_csv(\"/home/victor/Internship_Victor_CBC_ET/code_Adrian/MLE_pipeline/data/loudest_BBH/list_mdc1_v2.txt\",sep = ' ',engine='python', index_col = False)\n",
    "ET_params = ET_params.sort_values('snr',ascending=False) #Sélectionne les events avec le meilleur SNR pour les indices les plus faibles.\n",
    "ET_params = ET_params[ET_params['type'] == type] #Sélectionne un type particulier d'événements.\n",
    "params_list = ET_params.iloc[indexes]\n",
    "\n",
    "mchirp_signal = mchirp_from_mass1_mass2(params_list.mz1,params_list.mz2)\n",
    "q_signal = q_from_mass1_mass2(params_list.mz1,params_list.mz2)\n",
    "\n",
    "print(mchirp_signal)\n",
    "print(params_list.tc)"
   ]
  },
  {
   "cell_type": "code",
   "execution_count": null,
   "id": "5ef8a578",
   "metadata": {},
   "outputs": [],
   "source": [
    "dict = extract_mchirp_tc_spectro(data,'E1',show_fit=True)\n",
    "print(dict[\"mchirp\"])\n",
    "print(dict[\"tc\"])"
   ]
  },
  {
   "cell_type": "code",
   "execution_count": null,
   "id": "28426285",
   "metadata": {},
   "outputs": [],
   "source": [
    "#Nelder-Mead,  Powell, L-BFGS-B\n",
    "#differential_evolution, basinhopping\n",
    "mass1_init = 30\n",
    "mass2_init = 30\n",
    "mchirp = mchirp_from_mass1_mass2(mass1_init,mass2_init)\n",
    "q = q_from_mass1_mass2(mass1_init,mass2_init)\n",
    "initial_params = [params_list.tc - 2, mchirp_signal+1, q_signal-0.1,  params_list.distMpc - 100,       0,      0,    0,       0,    0,       0, 0]\n",
    "\n",
    "pi2 = np.pi/2\n",
    "dpi = 2*np.pi\n",
    "#       t0                                   chirp                             q                           dist                                              ra      dec        pol     incl      s1z          s2z          co_ph\n",
    "bounds=((params_list.tc-5,params_list.tc+5),(mchirp_signal-2,mchirp_signal+2),(q_signal-0.2,q_signal+0.2),(params_list.distMpc-200,params_list.distMpc+200),(0,dpi),(-pi2,pi2),(0,dpi),(0,np.pi),(-0.95,0.95),(-0.95,0.95),(0,pi2))\n",
    "\n",
    "start_time = time.time()\n",
    "file_name = 'lik_calculation_i5_t3.txt'\n",
    "result_glob = minimisation_globale(model=model,initial_params = initial_params,bounds=bounds,method=\"SLSQP\",minimisation='differential_evolution',\n",
    "                                   tol=0.001,nb_iter=100,maxiter=10000, stepsize = 0.1, log_noise_likelihood_from_SNR=0,\n",
    "                                   normalisation=False,save_data=True,file_name=file_name)\n",
    "duration_code = time.time() - start_time\n",
    "print(result_glob)"
   ]
  },
  {
   "cell_type": "code",
   "execution_count": 9,
   "id": "7274862e",
   "metadata": {},
   "outputs": [],
   "source": [
    "list_result = result_glob.x\n",
    "mass1 = mass1_from_mchirp_q(list_result[1],list_result[2])\n",
    "mass2 = mass2_from_mchirp_q(list_result[1],list_result[2])\n",
    "result_DF = pd.DataFrame(data={'time_mini' : duration_code, 'mloglik': result_glob.fun, 'tc': list_result[0], 'mass1': mass1,\n",
    "                        'mass2': mass2, 'distance': list_result[3], 'ra' : list_result[4],\n",
    "                        'dec' : list_result[5], 'polarization': list_result[6], 'inclination': list_result[7],\n",
    "                        'spin1z' : list_result[8], 'spin2z' : list_result[9], 'coa_phase': list_result[10],\n",
    "                        'chirp' : list_result[1], 'q' : list_result[2]},index=[0])\n",
    "\n",
    "\n",
    "file_result = 'result_i0_t3'\n",
    "result_DF.to_csv('/home/victor/Internship_Victor_CBC_ET/code_Adrian/MLE_pipeline/results_mini/' + file_result, index = False)"
   ]
  },
  {
   "cell_type": "markdown",
   "id": "a3a58493",
   "metadata": {},
   "source": [
    "## 5 - Reconstruc the optimized signal and analysis\n",
    "\n",
    "Plots : all plot functions come from `plot_results.py`\n",
    "- Time domain comparison of the reconstructed signal and the injected signal form the MDC : `comparison_signals()`\n",
    "- Frequency domain comparison of the reconstructed signal and the injected signal form the MDC : `comparison_freq()`\n",
    "- Q-transforms of the signal and the residuals : `qtrans()`"
   ]
  },
  {
   "cell_type": "code",
   "execution_count": 7,
   "id": "89f667b6",
   "metadata": {},
   "outputs": [
    {
     "name": "stdout",
     "output_type": "stream",
     "text": [
      "Waveform approximate duration: 55.4s\n",
      "Segment duration: 64.0s\n",
      "{'E1': <pycbc.types.timeseries.TimeSeries object at 0x73bbb90d97f0>, 'E2': <pycbc.types.timeseries.TimeSeries object at 0x73bbb902ce20>, 'E3': <pycbc.types.timeseries.TimeSeries object at 0x73bbb902cdf0>}\n"
     ]
    }
   ],
   "source": [
    "signal_reconstructed_t, signal_reconstructed_f = convert_signal(file_name='result_i0_t3', epoch=data['E1'].t0.value)\n",
    "tspycbc_data = gwpy_to_pycbc(data)\n",
    "\n",
    "start_common = max(signal_reconstructed_t['E1'].start_time, data['E1'].t0.value)\n",
    "end_common = min(signal_reconstructed_t['E1'].end_time, data['E1'].t0.value + data['E1'].duration.value)\n",
    "#end_common = data['E1'].t0.value + data['E1'].duration.value\n",
    "opti_cut = {}\n",
    "reel_cut = {}\n",
    "residual = {}\n",
    "print(signal_reconstructed_t)\n",
    "for ifo in ifos :\n",
    "    opti_cut[ifo] = signal_reconstructed_t[ifo].time_slice(start_common, end_common)\n",
    "    reel_cut[ifo] = tspycbc_data[ifo].time_slice(start_common, end_common)\n",
    "    residual[ifo] = PycbcTimeSeries(opti_cut[ifo] - reel_cut[ifo], epoch = start_common)\n"
   ]
  },
  {
   "cell_type": "code",
   "execution_count": null,
   "id": "f3e6d620",
   "metadata": {},
   "outputs": [],
   "source": [
    "file_name='result_i0_t3'\n",
    "params_opti_file = pd.read_csv('/home/victor/Internship_Victor_CBC_ET/code_Adrian/MLE_pipeline/results_mini/' + file_name)\n",
    "\n",
    "comparison_signals(params_opti_file,signal_reconstructed_t,tspycbc_data,residual,position = \"Front\",ifo = 'E2')"
   ]
  },
  {
   "cell_type": "code",
   "execution_count": 10,
   "id": "aea0ed68",
   "metadata": {},
   "outputs": [
    {
     "ename": "ValueError",
     "evalue": "operands could not be broadcast together with shapes (43609,) (131073,) ",
     "output_type": "error",
     "traceback": [
      "\u001b[0;31m---------------------------------------------------------------------------\u001b[0m",
      "\u001b[0;31mValueError\u001b[0m                                Traceback (most recent call last)",
      "Cell \u001b[0;32mIn[10], line 1\u001b[0m\n\u001b[0;32m----> 1\u001b[0m \u001b[43mcomparison_freq\u001b[49m\u001b[43m(\u001b[49m\u001b[43msignal_reconstructed_t\u001b[49m\u001b[43m,\u001b[49m\u001b[43mtspycbc_data\u001b[49m\u001b[43m,\u001b[49m\u001b[43mresidual\u001b[49m\u001b[43m,\u001b[49m\u001b[43mifo\u001b[49m\u001b[43m \u001b[49m\u001b[38;5;241;43m=\u001b[39;49m\u001b[43m \u001b[49m\u001b[38;5;124;43m'\u001b[39;49m\u001b[38;5;124;43mE1\u001b[39;49m\u001b[38;5;124;43m'\u001b[39;49m\u001b[43m)\u001b[49m\n",
      "File \u001b[0;32m~/Internship_Victor_CBC_ET/code_Adrian/MLE_pipeline/src/plot_results.py:185\u001b[0m, in \u001b[0;36mcomparison_freq\u001b[0;34m(opti_cut, reel_cut, residual, ifo)\u001b[0m\n\u001b[1;32m    183\u001b[0m psd_opti \u001b[38;5;241m=\u001b[39m tsgwpy_opti_cut[ifo]\u001b[38;5;241m.\u001b[39mpsd()\n\u001b[1;32m    184\u001b[0m psd_reel \u001b[38;5;241m=\u001b[39m tsgwpy_reel_cut[ifo]\u001b[38;5;241m.\u001b[39mpsd()\n\u001b[0;32m--> 185\u001b[0m psd_res \u001b[38;5;241m=\u001b[39m \u001b[43mpsd_reel\u001b[49m\u001b[43m \u001b[49m\u001b[38;5;241;43m-\u001b[39;49m\u001b[43m \u001b[49m\u001b[43mpsd_opti\u001b[49m\n\u001b[1;32m    187\u001b[0m plt\u001b[38;5;241m.\u001b[39mfigure()\n\u001b[1;32m    188\u001b[0m ax \u001b[38;5;241m=\u001b[39m plt\u001b[38;5;241m.\u001b[39mgca()\n",
      "File \u001b[0;32m~/miniconda3/envs/pycbc_env/lib/python3.9/site-packages/gwpy/types/array.py:410\u001b[0m, in \u001b[0;36mArray.__array_ufunc__\u001b[0;34m(self, function, method, *inputs, **kwargs)\u001b[0m\n\u001b[1;32m    409\u001b[0m \u001b[38;5;28;01mdef\u001b[39;00m\u001b[38;5;250m \u001b[39m\u001b[38;5;21m__array_ufunc__\u001b[39m(\u001b[38;5;28mself\u001b[39m, function, method, \u001b[38;5;241m*\u001b[39minputs, \u001b[38;5;241m*\u001b[39m\u001b[38;5;241m*\u001b[39mkwargs):\n\u001b[0;32m--> 410\u001b[0m     out \u001b[38;5;241m=\u001b[39m \u001b[38;5;28;43msuper\u001b[39;49m\u001b[43m(\u001b[49m\u001b[43m)\u001b[49m\u001b[38;5;241;43m.\u001b[39;49m\u001b[43m__array_ufunc__\u001b[49m\u001b[43m(\u001b[49m\u001b[43mfunction\u001b[49m\u001b[43m,\u001b[49m\u001b[43m \u001b[49m\u001b[43mmethod\u001b[49m\u001b[43m,\u001b[49m\u001b[43m \u001b[49m\u001b[38;5;241;43m*\u001b[39;49m\u001b[43minputs\u001b[49m\u001b[43m,\u001b[49m\u001b[43m \u001b[49m\u001b[38;5;241;43m*\u001b[39;49m\u001b[38;5;241;43m*\u001b[39;49m\u001b[43mkwargs\u001b[49m\u001b[43m)\u001b[49m\n\u001b[1;32m    411\u001b[0m     \u001b[38;5;66;03m# if a ufunc returns a scalar, return a Quantity\u001b[39;00m\n\u001b[1;32m    412\u001b[0m     \u001b[38;5;28;01mif\u001b[39;00m \u001b[38;5;129;01mnot\u001b[39;00m out\u001b[38;5;241m.\u001b[39mndim:\n",
      "File \u001b[0;32m~/miniconda3/envs/pycbc_env/lib/python3.9/site-packages/astropy/units/quantity.py:696\u001b[0m, in \u001b[0;36mQuantity.__array_ufunc__\u001b[0;34m(self, function, method, *inputs, **kwargs)\u001b[0m\n\u001b[1;32m    694\u001b[0m     \u001b[38;5;28;01mreturn\u001b[39;00m \u001b[38;5;28mNotImplemented\u001b[39m\n\u001b[1;32m    695\u001b[0m \u001b[38;5;28;01melse\u001b[39;00m:\n\u001b[0;32m--> 696\u001b[0m     \u001b[38;5;28;01mraise\u001b[39;00m e\n",
      "File \u001b[0;32m~/miniconda3/envs/pycbc_env/lib/python3.9/site-packages/astropy/units/quantity.py:671\u001b[0m, in \u001b[0;36mQuantity.__array_ufunc__\u001b[0;34m(self, function, method, *inputs, **kwargs)\u001b[0m\n\u001b[1;32m    668\u001b[0m     arrays\u001b[38;5;241m.\u001b[39mappend(converter(input_) \u001b[38;5;28;01mif\u001b[39;00m converter \u001b[38;5;28;01melse\u001b[39;00m input_)\n\u001b[1;32m    670\u001b[0m \u001b[38;5;66;03m# Call our superclass's __array_ufunc__\u001b[39;00m\n\u001b[0;32m--> 671\u001b[0m result \u001b[38;5;241m=\u001b[39m \u001b[38;5;28;43msuper\u001b[39;49m\u001b[43m(\u001b[49m\u001b[43m)\u001b[49m\u001b[38;5;241;43m.\u001b[39;49m\u001b[43m__array_ufunc__\u001b[49m\u001b[43m(\u001b[49m\u001b[43mfunction\u001b[49m\u001b[43m,\u001b[49m\u001b[43m \u001b[49m\u001b[43mmethod\u001b[49m\u001b[43m,\u001b[49m\u001b[43m \u001b[49m\u001b[38;5;241;43m*\u001b[39;49m\u001b[43marrays\u001b[49m\u001b[43m,\u001b[49m\u001b[43m \u001b[49m\u001b[38;5;241;43m*\u001b[39;49m\u001b[38;5;241;43m*\u001b[39;49m\u001b[43mkwargs\u001b[49m\u001b[43m)\u001b[49m\n\u001b[1;32m    672\u001b[0m \u001b[38;5;66;03m# If unit is None, a plain array is expected (e.g., comparisons), which\u001b[39;00m\n\u001b[1;32m    673\u001b[0m \u001b[38;5;66;03m# means we're done.\u001b[39;00m\n\u001b[1;32m    674\u001b[0m \u001b[38;5;66;03m# We're also done if the result was None (for method 'at') or\u001b[39;00m\n\u001b[1;32m    675\u001b[0m \u001b[38;5;66;03m# NotImplemented, which can happen if other inputs/outputs override\u001b[39;00m\n\u001b[1;32m    676\u001b[0m \u001b[38;5;66;03m# __array_ufunc__; hopefully, they can then deal with us.\u001b[39;00m\n\u001b[1;32m    677\u001b[0m \u001b[38;5;28;01mif\u001b[39;00m unit \u001b[38;5;129;01mis\u001b[39;00m \u001b[38;5;28;01mNone\u001b[39;00m \u001b[38;5;129;01mor\u001b[39;00m result \u001b[38;5;129;01mis\u001b[39;00m \u001b[38;5;28;01mNone\u001b[39;00m \u001b[38;5;129;01mor\u001b[39;00m result \u001b[38;5;129;01mis\u001b[39;00m \u001b[38;5;28mNotImplemented\u001b[39m:\n",
      "\u001b[0;31mValueError\u001b[0m: operands could not be broadcast together with shapes (43609,) (131073,) "
     ]
    }
   ],
   "source": [
    "comparison_freq(signal_reconstructed_t,tspycbc_data,residual,ifo = 'E1')"
   ]
  },
  {
   "cell_type": "code",
   "execution_count": null,
   "id": "45ce4bdf",
   "metadata": {},
   "outputs": [],
   "source": [
    "tsgwpy_opti_cut = pycbc_to_gwpy(opti_cut)\n",
    "tsgwpy_reel_cut = pycbc_to_gwpy(reel_cut)\n",
    "# plt.plot(tsgwpy_opti_cut['E1'].times.value,tsgwpy_opti_cut['E1'],zorder=4,label='opti')\n",
    "# plt.plot(tsgwpy_reel_cut['E1'].times.value,tsgwpy_reel_cut['E1'],zorder=3,label='reel')\n",
    "# plt.legend()\n",
    "qtrans_plot(tsgwpy_reel_cut['E1'],frange = (4, 100),qrange = (5, 30),colorbar_limits = {'inf' : 0, 'sup' :5000})"
   ]
  },
  {
   "cell_type": "code",
   "execution_count": null,
   "id": "6be34b84",
   "metadata": {},
   "outputs": [],
   "source": [
    "tsgwpy_res = pycbc_to_gwpy(residual)\n",
    "qtrans_plot(tsgwpy_res['E2'],frange = (4, 100),qrange = (5, 30),colorbar_limits = {'inf' : 0, 'sup' : 1000})"
   ]
  },
  {
   "cell_type": "markdown",
   "id": "ddd41c31-13f8-4e21-b12a-3c1be8f55252",
   "metadata": {},
   "source": [
    "### Computing time\n",
    "\n",
    "* The longer the signal is, the longer it takes to generate it and therefore maximize the likelihood. CBC signals become longer when we decrease the minimal frequency and/or the chirp mass.\n",
    "* For the ET MDC, we would ideally want to go down to a minimal frequency of 5 Hz and chirp mass of 1.21 solar masses. In this case the signal lasts more than 6000s. It is possible that it takes too much computing time. If that's the case, we could decide to increase the minimal frequency to keep the computing cost manageable."
   ]
  }
 ],
 "metadata": {
  "kernelspec": {
   "display_name": "pycbc_env",
   "language": "python",
   "name": "python3"
  },
  "language_info": {
   "codemirror_mode": {
    "name": "ipython",
    "version": 3
   },
   "file_extension": ".py",
   "mimetype": "text/x-python",
   "name": "python",
   "nbconvert_exporter": "python",
   "pygments_lexer": "ipython3",
   "version": "3.9.21"
  }
 },
 "nbformat": 4,
 "nbformat_minor": 5
}
