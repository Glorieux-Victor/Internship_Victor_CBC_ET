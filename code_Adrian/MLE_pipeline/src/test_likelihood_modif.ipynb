{
 "cells": [
  {
   "cell_type": "markdown",
   "id": "dbda8440-ea28-423a-9753-69a332646d34",
   "metadata": {},
   "source": [
    "# Test `MDCGaussianNoise`\n",
    "\n",
    "This notebook tests the class `MDCGaussianNoise` implemented in `likelihood.py`.\n",
    "\n",
    "**Input needed by `MDCGaussianNoise`:**\n",
    "* data : the data segment that we want to analyze. The format should be a dict() where each key represents one detector. The data for each detector should be a pycbc FrequencySeries.\n",
    "* psd : the PSD of the noise (can be estimated or provided, for the moment we just provide it). Same format as *data*.\n",
    "\n",
    "Use `data, psd = get_data.convert_to_frequency_series_with_psd(time_series, return_psd=True)` to get data and psd with the correct format from a dictionary containing gwpy time series read .gwf files.\n",
    "\n",
    "* variable_params : a list of parameters over which we want to maximize. In the most general case it should be ['mass1', 'mass2', 'spin1z', 'spin2z', 'distance', 'polarization', 'inclination', 'tc', 'coa_phase', 'ra', 'dec'], but it is possible to reduce the number of variable parameters to make tests for example.\n",
    "* static_params : a dictionary containing the parameters for which the values are already fixed (in general the spins along the x and y axes).\n",
    "\n",
    "Note that all 15 CBC parameters must be defined, either in *variable_params* or in *static_params*.\n",
    "\n",
    "* approximant and fmin should be defined (the default values 'IMRPhenomXPHM' and 5 Hz are fine).\n",
    "\n",
    "**Optional input:** these are just for testing to compare the values of the parameters we recover to the injected values.\n",
    "* injection_params : a dictionary contaning the parameters of the injected signal if we know them.\n",
    "* injection_network_snr : the network SNR of the signal, as listed in the list of MDC signal (2nd column from the end).\n",
    "\n",
    "**Input needed by `maximize`:**\n",
    "For each variable parameter, bounds must be provided.\n",
    "\n",
    "*Warning:* mass1 and mass2 bounds should be replaced with chirp mass and mass ratio.\n",
    "\n",
    "## Example of workflow\n",
    "\n",
    "1. Read MDC data using `get_data.read_MDC_data()` (for example data around a signal with high SNR).\n",
    "2. Prepare frequency domain data and PSD using `get_data.convert_to_frequency_series_with_psd()`.\n",
    "3. Define variable and static params.\n",
    "4. Instanciate a MDCGaussianNoise object.\n",
    "5. Define bounds for each variable parameter.\n",
    "6. Run `maximize()`.\n",
    "7. Compare recovered parameters to injected ones, if they are known. Compare recovered log likelihood ratio to injected network SNR if it is known.\n",
    "8. Run reconstruct_signal(), then subtract_signal() and compare the original data and the reconstructed signal."
   ]
  },
  {
   "cell_type": "code",
   "execution_count": 1,
   "id": "e168612b-2e51-40d7-99bd-2eb34df739a5",
   "metadata": {},
   "outputs": [
    {
     "name": "stderr",
     "output_type": "stream",
     "text": [
      "/home/victor/miniconda3/envs/pycbc_env/lib/python3.9/site-packages/pykerr/qnm.py:2: UserWarning: pkg_resources is deprecated as an API. See https://setuptools.pypa.io/en/latest/pkg_resources.html. The pkg_resources package is slated for removal as early as 2025-11-30. Refrain from using this package or pin to Setuptools<81.\n",
      "  import pkg_resources\n"
     ]
    }
   ],
   "source": [
    "from generate_data import generate_frequency_domain_signal, default_cbc_params\n",
    "from get_data import get_psd_frequency_series, read_MDC_data, convert_to_frequency_series_with_psd, convert_data_dict_to_frequency_series_dict\n",
    "from likelihood import MDCGaussianNoise, subtract_signal\n",
    "import matplotlib.pyplot as plt\n",
    "import matplotlib as mpl\n",
    "mpl.rcParams['xtick.labelsize'] = 12\n",
    "mpl.rcParams['ytick.labelsize'] = 12\n",
    "mpl.rcParams['axes.labelsize'] = 14\n",
    "mpl.rcParams['axes.titlesize'] = 16\n",
    "mpl.rcParams['legend.fontsize'] = 12\n",
    "mpl.rcParams['font.size'] = 12  # global font size\n",
    "import numpy as np\n",
    "from gwpy.timeseries import TimeSeries\n",
    "from pycbc.types import FrequencySeries"
   ]
  },
  {
   "cell_type": "markdown",
   "id": "4d01151c-4576-496b-bd79-6d64efcd5b74",
   "metadata": {},
   "source": [
    "## 1 - Generate signal\n",
    "\n",
    "First we generate a signal (in the frequency domain) using the functions defined in `generate_signal.py`."
   ]
  },
  {
   "cell_type": "code",
   "execution_count": 10,
   "id": "0df670c9-fa91-472f-9333-b72865b14362",
   "metadata": {},
   "outputs": [
    {
     "name": "stdout",
     "output_type": "stream",
     "text": [
      "Waveform approximate duration: 31.9s\n",
      "Segment duration: 64.0s\n",
      "{'E1': <pycbc.types.frequencyseries.FrequencySeries object at 0x7470ef7c9b80>, 'E2': <pycbc.types.frequencyseries.FrequencySeries object at 0x7470ef14cb20>, 'E3': <pycbc.types.frequencyseries.FrequencySeries object at 0x7470ece4d8e0>}\n"
     ]
    }
   ],
   "source": [
    "cbc_params = {\n",
    "              'mass1': 38.6,\n",
    "              'mass2': 29.3,\n",
    "              'spin1x': 0., 'spin2x': 0.,  'spin1y': 0., 'spin2y': 0.,  'spin1z': 0, 'spin2z': 0, \n",
    "              'eccentricity': 0,\n",
    "              'ra': 1.37, 'dec': -1.26, 'distance': 10000, \n",
    "              'polarization': 2.76, 'inclination': 0,\n",
    "              'tc': 3.1 , 'coa_phase': 0.3,\n",
    "              'approximant': 'IMRPhenomXPHM',\n",
    "              'f_lower': 5\n",
    "                }\n",
    "signal = generate_frequency_domain_signal(cbc_params, ifos=['E1', 'E2', 'E3'])\n",
    "print(signal)"
   ]
  },
  {
   "cell_type": "code",
   "execution_count": 3,
   "id": "8f22d26a",
   "metadata": {},
   "outputs": [
    {
     "name": "stdout",
     "output_type": "stream",
     "text": [
      "{'E1': <TimeSeries([-2.16874926e-23, -2.02161776e-23, -1.74414906e-23,\n",
      "             ...,  8.89037920e-23, -6.39292277e-23,\n",
      "              7.44417807e-23]\n",
      "            unit=Unit(\"strain\"),\n",
      "            t0=<Quantity 1.0016204e+09 s>,\n",
      "            dt=<Quantity 0.00024414 s>,\n",
      "            name='E1:STRAIN',\n",
      "            channel=<Channel(\"E1:STRAIN\", 8192.0 Hz) at 0x7f6837364280>)>, 'E2': <TimeSeries([-2.90205761e-23,  3.76218612e-23, -5.79038990e-23,\n",
      "             ...,  4.75558006e-23, -2.85348704e-23,\n",
      "              6.35862733e-23]\n",
      "            unit=Unit(\"strain\"),\n",
      "            t0=<Quantity 1.0016204e+09 s>,\n",
      "            dt=<Quantity 0.00024414 s>,\n",
      "            name='E2:STRAIN',\n",
      "            channel=<Channel(\"E2:STRAIN\", 8192.0 Hz) at 0x7f68dc0ef550>)>, 'E3': <TimeSeries([ 4.31007369e-23, -1.93298835e-23,  1.61201235e-23,\n",
      "             ...,  6.02385021e-24, -2.26833544e-23,\n",
      "             -6.12309151e-25]\n",
      "            unit=Unit(\"strain\"),\n",
      "            t0=<Quantity 1.0016204e+09 s>,\n",
      "            dt=<Quantity 0.00024414 s>,\n",
      "            name='E3:STRAIN',\n",
      "            channel=<Channel(\"E3:STRAIN\", 8192.0 Hz) at 0x7f68373a4e50>)>}\n",
      "-540823.333542688\n"
     ]
    }
   ],
   "source": [
    "data = read_MDC_data(1001620399.26659, 1001620463.11925)\n",
    "print(data)\n",
    "\n",
    "data['E1'].write(\"/home/victor-glorieux/Internship_Victor_CBC_ET/code_Adrian/MLE_pipeline/data/données_E1.txt\")\n",
    "data['E2'].write(\"/home/victor-glorieux/Internship_Victor_CBC_ET/code_Adrian/MLE_pipeline/data/données_E2.txt\")\n",
    "data['E3'].write(\"/home/victor-glorieux/Internship_Victor_CBC_ET/code_Adrian/MLE_pipeline/data/données_E3.txt\")\n",
    "\n",
    "fft, psd = convert_to_frequency_series_with_psd(data['E1'], return_psd=True)\n",
    "data_freq, psds = convert_data_dict_to_frequency_series_dict(data)\n",
    "model = MDCGaussianNoise(data_freq, psds)\n",
    "print(model.lognl)"
   ]
  },
  {
   "cell_type": "code",
   "execution_count": 11,
   "id": "41e5e7fe",
   "metadata": {},
   "outputs": [
    {
     "name": "stderr",
     "output_type": "stream",
     "text": [
      "/home/victor/miniconda3/envs/pycbc_env/lib/python3.9/site-packages/gwpy/timeseries/timeseries.py:930: UserWarning: resample() rate matches current sample_rate (4096.0 Hz), returning input data unmodified; please double-check your parameters\n",
      "  warnings.warn(\n"
     ]
    },
    {
     "name": "stdout",
     "output_type": "stream",
     "text": [
      "{'E1': <pycbc.types.frequencyseries.FrequencySeries object at 0x7470f4354790>, 'E2': <pycbc.types.frequencyseries.FrequencySeries object at 0x7470ed9a3df0>, 'E3': <pycbc.types.frequencyseries.FrequencySeries object at 0x7470ed9a3fa0>}\n",
      "{'E1': <pycbc.types.frequencyseries.FrequencySeries object at 0x7470ef14cc70>, 'E2': <pycbc.types.frequencyseries.FrequencySeries object at 0x74712754c8b0>, 'E3': <pycbc.types.frequencyseries.FrequencySeries object at 0x74712754c550>}\n"
     ]
    }
   ],
   "source": [
    "from pycbc.types import FrequencySeries\n",
    "from pycbc.types import TimeSeries as PycbcTimeSeries\n",
    "\n",
    "path_data = '/home/victor/Internship_Victor_CBC_ET/code_Adrian/MLE_pipeline/data/'\n",
    "data = {}\n",
    "signal = {}\n",
    "ifos=['E1', 'E2', 'E3']\n",
    "for ifo in ifos:\n",
    "    channel = ifo + ':STRAIN'\n",
    "    file = path_data + 'données_' + ifo + '.txt'\n",
    "    data[ifo] = TimeSeries.read(file)\n",
    "    data[ifo] = data[ifo].resample(4096)\n",
    "    val = data[ifo].value\n",
    "    delta_t = data[ifo].dt.value\n",
    "    pycbc_ts = PycbcTimeSeries(val, delta_t=delta_t)\n",
    "    signal[ifo] = pycbc_ts.to_frequencyseries()\n",
    "     \n",
    "\n",
    "fft, psd = convert_to_frequency_series_with_psd(data['E1'], return_psd=True)\n",
    "data_freq, psds = convert_data_dict_to_frequency_series_dict(data)\n",
    "print(data_freq)\n",
    "print(psds)"
   ]
  },
  {
   "cell_type": "code",
   "execution_count": 12,
   "id": "766badd6",
   "metadata": {},
   "outputs": [
    {
     "name": "stdout",
     "output_type": "stream",
     "text": [
      "-540823.333542688\n"
     ]
    }
   ],
   "source": [
    "model = MDCGaussianNoise(data_freq, psds)\n",
    "print(model.lognl)"
   ]
  },
  {
   "cell_type": "markdown",
   "id": "94205230-267a-4ef1-8110-3df820b235f1",
   "metadata": {},
   "source": [
    "## 2 - Create MDCGaussianNoise model\n",
    "\n",
    "We instanciate an MDCGaussianNoise object with the signal we have generated and the PSD used for the ET MDC.\n",
    "\n",
    "Since there is no noise, we verify that the optimal log likelihood is 0 and the optimal log likelihood ratio corresponds to 1/2 of the network SNR. Here \"optimal\" means \"computed for the true parameters of the injected CBC signal\".\n",
    "\n",
    "**Variable and static parameters:**\n",
    "* Variable parameters are the ones that we want to maximize over. They are provided as a list.\n",
    "* Static parameters are fixed: they are provided as a dictionary with known values.\n",
    "\n",
    "All CBC parameters defined in *cbc_params* must be either in *variable_params* or defined in *static_params*. The approximant and lower frequency are always static."
   ]
  },
  {
   "cell_type": "code",
   "execution_count": 14,
   "id": "2ee784a9-73d5-465b-aa54-72136677cd92",
   "metadata": {},
   "outputs": [
    {
     "name": "stdout",
     "output_type": "stream",
     "text": [
      "True signal parameters unknown. Cannot compute optimal likelihood.\n",
      "Optimal log likelihood ratio: -1.00\n",
      "Optimal log likelihood: -1.00\n"
     ]
    }
   ],
   "source": [
    "#psd = get_psd_frequency_series(signal['E1'].get_sample_frequencies(), signal['E1'].get_delta_f())\n",
    "#psds = {'E1': psd, 'E2': psd, 'E3': psd}\n",
    "\n",
    "cbc_params = {\n",
    "              'mass1': 38.6,\n",
    "              'mass2': 29.3,\n",
    "              'spin1x': 0., 'spin2x': 0.,  'spin1y': 0., 'spin2y': 0.,  'spin1z': 0, 'spin2z': 0, \n",
    "              'eccentricity': 0,\n",
    "              'ra': 1.37, 'dec': -1.26, 'distance': 10000, \n",
    "              'polarization': 2.76, 'inclination': 0,\n",
    "              'tc': 3.1 , 'coa_phase': 0.3,\n",
    "              'approximant': 'IMRPhenomXPHM',\n",
    "              'f_lower': 5\n",
    "                }\n",
    "\n",
    "variable_params = ['mass1', 'mass2','spin1z', 'spin2z', 'ra', 'dec', 'distance', 'polarization', 'inclination', 'tc', 'coa_phase']\n",
    "static_params = dict(cbc_params)\n",
    "for param in variable_params :\n",
    "    del static_params[param]\n",
    "\n",
    "\n",
    "# injection_params=cbc_params deleted\n",
    "# We know the signal parameters so we can define injection_params and compute optimal likelihoods\n",
    "model = MDCGaussianNoise(signal, psds, fmin=5, approximant='IMRPhenomXPHM', variable_params=variable_params,\\\n",
    "                         static_params=static_params, injection_network_snr=1240.9)\n",
    "\n",
    "optimal_loglr, optimal_loglikelihood = model.compute_optimal_likelihoods()\n",
    "print('Optimal log likelihood ratio: ' + format(optimal_loglr, '.2f'))\n",
    "print('Optimal log likelihood: ' + format(optimal_loglikelihood, '.2f'))\n",
    "\n",
    "#snr_network_sq = model.det_optimal_snrsq('E1') + model.det_optimal_snrsq('E2') + model.det_optimal_snrsq('E3')\n",
    "#print('1/2 network SNR: ' + format(0.5 * snr_network_sq, '.2f'))"
   ]
  },
  {
   "cell_type": "markdown",
   "id": "1ce800de-d0c8-4671-8f12-ad563e2fb9d1",
   "metadata": {},
   "source": [
    "## 3 - Maximize the likelihood\n",
    "\n",
    "The method `maximize()` calls `scipy.optimize.differential_evolution()`. We can specify the maximal number of iterations and the tolerance, which are parameters of `differential_evolution()`. This method automatically defines the bounds on the parameters over which to maximize, with a radius of 10% from the true values (for example if the true chirp mass is 30, it will restrict the chirp mass in the range 27, 33). When doing the full analysis of the MDC, we will use greater bounds since we are not supposed to know the true values of the injected signal."
   ]
  },
  {
   "cell_type": "code",
   "execution_count": 15,
   "id": "69a38673-af81-4155-a6ce-9979f6fe8db9",
   "metadata": {},
   "outputs": [
    {
     "name": "stdout",
     "output_type": "stream",
     "text": [
      "Start maximization over the following parameters:\n",
      "('mass1', 'mass2', 'spin1z', 'spin2z', 'ra', 'dec', 'distance', 'polarization', 'inclination', 'tc', 'coa_phase')\n"
     ]
    },
    {
     "ename": "KeyboardInterrupt",
     "evalue": "",
     "output_type": "error",
     "traceback": [
      "\u001b[0;31m---------------------------------------------------------------------------\u001b[0m",
      "\u001b[0;31mAttributeError\u001b[0m                            Traceback (most recent call last)",
      "File \u001b[0;32m~/miniconda3/envs/pycbc_env/lib/python3.9/site-packages/pycbc/inference/models/base.py:502\u001b[0m, in \u001b[0;36mBaseModel._trytoget\u001b[0;34m(self, statname, fallback, apply_transforms, **kwargs)\u001b[0m\n\u001b[1;32m    501\u001b[0m \u001b[38;5;28;01mtry\u001b[39;00m:\n\u001b[0;32m--> 502\u001b[0m     \u001b[38;5;28;01mreturn\u001b[39;00m \u001b[38;5;28;43mgetattr\u001b[39;49m\u001b[43m(\u001b[49m\u001b[38;5;28;43mself\u001b[39;49m\u001b[38;5;241;43m.\u001b[39;49m\u001b[43m_current_stats\u001b[49m\u001b[43m,\u001b[49m\u001b[43m \u001b[49m\u001b[43mstatname\u001b[49m\u001b[43m)\u001b[49m\n\u001b[1;32m    503\u001b[0m \u001b[38;5;28;01mexcept\u001b[39;00m \u001b[38;5;167;01mAttributeError\u001b[39;00m:\n\u001b[1;32m    504\u001b[0m     \u001b[38;5;66;03m# apply waveform transforms if requested\u001b[39;00m\n",
      "\u001b[0;31mAttributeError\u001b[0m: 'ModelStats' object has no attribute 'loglr'",
      "\nDuring handling of the above exception, another exception occurred:\n",
      "\u001b[0;31mKeyboardInterrupt\u001b[0m                         Traceback (most recent call last)",
      "Cell \u001b[0;32mIn[15], line 15\u001b[0m\n\u001b[1;32m     12\u001b[0m phase_bound \u001b[38;5;241m=\u001b[39m (\u001b[38;5;241m0\u001b[39m, pi2)\n\u001b[1;32m     13\u001b[0m bounds \u001b[38;5;241m=\u001b[39m [mc_bound, q_bound,spin1z_bound,spin2z_bound,ra_bound,dec_bound,distance_bound,pola_bound,incl_bound,tc_bound,phase_bound]\n\u001b[0;32m---> 15\u001b[0m res \u001b[38;5;241m=\u001b[39m \u001b[43mmodel\u001b[49m\u001b[38;5;241;43m.\u001b[39;49m\u001b[43mmaximize\u001b[49m\u001b[43m(\u001b[49m\u001b[43mbounds\u001b[49m\u001b[43m,\u001b[49m\u001b[43m \u001b[49m\u001b[43mmax_iterations\u001b[49m\u001b[38;5;241;43m=\u001b[39;49m\u001b[38;5;241;43m20\u001b[39;49m\u001b[43m,\u001b[49m\u001b[43m \u001b[49m\u001b[43mtol\u001b[49m\u001b[38;5;241;43m=\u001b[39;49m\u001b[38;5;241;43m1e-6\u001b[39;49m\u001b[43m)\u001b[49m\n\u001b[1;32m     16\u001b[0m \u001b[38;5;28mprint\u001b[39m(model\u001b[38;5;241m.\u001b[39mmaximized_params)\n\u001b[1;32m     17\u001b[0m \u001b[38;5;28mprint\u001b[39m(model\u001b[38;5;241m.\u001b[39minjection_params)\n",
      "File \u001b[0;32m~/Internship_Victor_CBC_ET/code_Adrian/MLE_pipeline/src/likelihood.py:182\u001b[0m, in \u001b[0;36mMDCGaussianNoise.maximize\u001b[0;34m(self, bounds, max_iterations, tol)\u001b[0m\n\u001b[1;32m    180\u001b[0m \u001b[38;5;28mprint\u001b[39m(\u001b[38;5;124m'\u001b[39m\u001b[38;5;124mStart maximization over the following parameters:\u001b[39m\u001b[38;5;124m'\u001b[39m)\n\u001b[1;32m    181\u001b[0m \u001b[38;5;28mprint\u001b[39m(\u001b[38;5;28mself\u001b[39m\u001b[38;5;241m.\u001b[39mvariable_params)\n\u001b[0;32m--> 182\u001b[0m result \u001b[38;5;241m=\u001b[39m \u001b[43mdifferential_evolution\u001b[49m\u001b[43m(\u001b[49m\u001b[43mnegative_loglr\u001b[49m\u001b[43m,\u001b[49m\u001b[43m \u001b[49m\u001b[43mbounds\u001b[49m\u001b[43m,\u001b[49m\u001b[43m \u001b[49m\u001b[43mcallback\u001b[49m\u001b[38;5;241;43m=\u001b[39;49m\u001b[43mstatus_callback\u001b[49m\u001b[43m,\u001b[49m\u001b[43m \u001b[49m\u001b[43mmaxiter\u001b[49m\u001b[38;5;241;43m=\u001b[39;49m\u001b[43mmax_iterations\u001b[49m\u001b[43m,\u001b[49m\u001b[43m \u001b[49m\u001b[43mtol\u001b[49m\u001b[38;5;241;43m=\u001b[39;49m\u001b[43mtol\u001b[49m\u001b[43m,\u001b[49m\u001b[43m \u001b[49m\u001b[43mpolish\u001b[49m\u001b[38;5;241;43m=\u001b[39;49m\u001b[38;5;28;43;01mFalse\u001b[39;49;00m\u001b[43m)\u001b[49m\n\u001b[1;32m    183\u001b[0m \u001b[38;5;28mprint\u001b[39m(\u001b[38;5;124m'\u001b[39m\u001b[38;5;124mMaximization complete\u001b[39m\u001b[38;5;124m'\u001b[39m)\n\u001b[1;32m    184\u001b[0m \u001b[38;5;66;03m# Extract optimized parameters\u001b[39;00m\n",
      "File \u001b[0;32m~/miniconda3/envs/pycbc_env/lib/python3.9/site-packages/scipy/optimize/_differentialevolution.py:502\u001b[0m, in \u001b[0;36mdifferential_evolution\u001b[0;34m(func, bounds, args, strategy, maxiter, popsize, tol, mutation, recombination, seed, callback, disp, polish, init, atol, updating, workers, constraints, x0, integrality, vectorized)\u001b[0m\n\u001b[1;32m    485\u001b[0m \u001b[38;5;66;03m# using a context manager means that any created Pool objects are\u001b[39;00m\n\u001b[1;32m    486\u001b[0m \u001b[38;5;66;03m# cleared up.\u001b[39;00m\n\u001b[1;32m    487\u001b[0m \u001b[38;5;28;01mwith\u001b[39;00m DifferentialEvolutionSolver(func, bounds, args\u001b[38;5;241m=\u001b[39margs,\n\u001b[1;32m    488\u001b[0m                                  strategy\u001b[38;5;241m=\u001b[39mstrategy,\n\u001b[1;32m    489\u001b[0m                                  maxiter\u001b[38;5;241m=\u001b[39mmaxiter,\n\u001b[0;32m   (...)\u001b[0m\n\u001b[1;32m    500\u001b[0m                                  integrality\u001b[38;5;241m=\u001b[39mintegrality,\n\u001b[1;32m    501\u001b[0m                                  vectorized\u001b[38;5;241m=\u001b[39mvectorized) \u001b[38;5;28;01mas\u001b[39;00m solver:\n\u001b[0;32m--> 502\u001b[0m     ret \u001b[38;5;241m=\u001b[39m \u001b[43msolver\u001b[49m\u001b[38;5;241;43m.\u001b[39;49m\u001b[43msolve\u001b[49m\u001b[43m(\u001b[49m\u001b[43m)\u001b[49m\n\u001b[1;32m    504\u001b[0m \u001b[38;5;28;01mreturn\u001b[39;00m ret\n",
      "File \u001b[0;32m~/miniconda3/envs/pycbc_env/lib/python3.9/site-packages/scipy/optimize/_differentialevolution.py:1164\u001b[0m, in \u001b[0;36mDifferentialEvolutionSolver.solve\u001b[0;34m(self)\u001b[0m\n\u001b[1;32m   1161\u001b[0m \u001b[38;5;28;01mfor\u001b[39;00m nit \u001b[38;5;129;01min\u001b[39;00m \u001b[38;5;28mrange\u001b[39m(\u001b[38;5;241m1\u001b[39m, \u001b[38;5;28mself\u001b[39m\u001b[38;5;241m.\u001b[39mmaxiter \u001b[38;5;241m+\u001b[39m \u001b[38;5;241m1\u001b[39m):\n\u001b[1;32m   1162\u001b[0m     \u001b[38;5;66;03m# evolve the population by a generation\u001b[39;00m\n\u001b[1;32m   1163\u001b[0m     \u001b[38;5;28;01mtry\u001b[39;00m:\n\u001b[0;32m-> 1164\u001b[0m         \u001b[38;5;28;43mnext\u001b[39;49m\u001b[43m(\u001b[49m\u001b[38;5;28;43mself\u001b[39;49m\u001b[43m)\u001b[49m\n\u001b[1;32m   1165\u001b[0m     \u001b[38;5;28;01mexcept\u001b[39;00m \u001b[38;5;167;01mStopIteration\u001b[39;00m:\n\u001b[1;32m   1166\u001b[0m         warning_flag \u001b[38;5;241m=\u001b[39m \u001b[38;5;28;01mTrue\u001b[39;00m\n",
      "File \u001b[0;32m~/miniconda3/envs/pycbc_env/lib/python3.9/site-packages/scipy/optimize/_differentialevolution.py:1578\u001b[0m, in \u001b[0;36mDifferentialEvolutionSolver.__next__\u001b[0;34m(self)\u001b[0m\n\u001b[1;32m   1576\u001b[0m     feasible \u001b[38;5;241m=\u001b[39m \u001b[38;5;28;01mTrue\u001b[39;00m\n\u001b[1;32m   1577\u001b[0m     cv \u001b[38;5;241m=\u001b[39m np\u001b[38;5;241m.\u001b[39matleast_2d([\u001b[38;5;241m0.\u001b[39m])\n\u001b[0;32m-> 1578\u001b[0m     energy \u001b[38;5;241m=\u001b[39m \u001b[38;5;28;43mself\u001b[39;49m\u001b[38;5;241;43m.\u001b[39;49m\u001b[43mfunc\u001b[49m\u001b[43m(\u001b[49m\u001b[43mparameters\u001b[49m\u001b[43m)\u001b[49m\n\u001b[1;32m   1579\u001b[0m     \u001b[38;5;28mself\u001b[39m\u001b[38;5;241m.\u001b[39m_nfev \u001b[38;5;241m+\u001b[39m\u001b[38;5;241m=\u001b[39m \u001b[38;5;241m1\u001b[39m\n\u001b[1;32m   1581\u001b[0m \u001b[38;5;66;03m# compare trial and population member\u001b[39;00m\n",
      "File \u001b[0;32m~/miniconda3/envs/pycbc_env/lib/python3.9/site-packages/scipy/_lib/_util.py:441\u001b[0m, in \u001b[0;36m_FunctionWrapper.__call__\u001b[0;34m(self, x)\u001b[0m\n\u001b[1;32m    440\u001b[0m \u001b[38;5;28;01mdef\u001b[39;00m\u001b[38;5;250m \u001b[39m\u001b[38;5;21m__call__\u001b[39m(\u001b[38;5;28mself\u001b[39m, x):\n\u001b[0;32m--> 441\u001b[0m     \u001b[38;5;28;01mreturn\u001b[39;00m \u001b[38;5;28;43mself\u001b[39;49m\u001b[38;5;241;43m.\u001b[39;49m\u001b[43mf\u001b[49m\u001b[43m(\u001b[49m\u001b[43mx\u001b[49m\u001b[43m,\u001b[49m\u001b[43m \u001b[49m\u001b[38;5;241;43m*\u001b[39;49m\u001b[38;5;28;43mself\u001b[39;49m\u001b[38;5;241;43m.\u001b[39;49m\u001b[43margs\u001b[49m\u001b[43m)\u001b[49m\n",
      "File \u001b[0;32m~/Internship_Victor_CBC_ET/code_Adrian/MLE_pipeline/src/likelihood.py:168\u001b[0m, in \u001b[0;36mMDCGaussianNoise.maximize.<locals>.negative_loglr\u001b[0;34m(x)\u001b[0m\n\u001b[1;32m    165\u001b[0m \u001b[38;5;66;03m#print(updated_params)\u001b[39;00m\n\u001b[1;32m    166\u001b[0m \u001b[38;5;28mself\u001b[39m\u001b[38;5;241m.\u001b[39mupdate(\u001b[38;5;241m*\u001b[39m\u001b[38;5;241m*\u001b[39mupdated_params)\n\u001b[0;32m--> 168\u001b[0m \u001b[38;5;28;01mreturn\u001b[39;00m \u001b[38;5;241m-\u001b[39m\u001b[38;5;28;43mself\u001b[39;49m\u001b[38;5;241;43m.\u001b[39;49m\u001b[43mloglr\u001b[49m\n",
      "File \u001b[0;32m~/miniconda3/envs/pycbc_env/lib/python3.9/site-packages/pycbc/inference/models/base_data.py:118\u001b[0m, in \u001b[0;36mBaseDataModel.loglr\u001b[0;34m(self)\u001b[0m\n\u001b[1;32m    108\u001b[0m \u001b[38;5;129m@property\u001b[39m\n\u001b[1;32m    109\u001b[0m \u001b[38;5;28;01mdef\u001b[39;00m\u001b[38;5;250m \u001b[39m\u001b[38;5;21mloglr\u001b[39m(\u001b[38;5;28mself\u001b[39m):\n\u001b[1;32m    110\u001b[0m \u001b[38;5;250m    \u001b[39m\u001b[38;5;124;03m\"\"\"The log likelihood ratio at the current parameters,\u001b[39;00m\n\u001b[1;32m    111\u001b[0m \u001b[38;5;124;03m    or the inner product <s|h> and <h|h> if set the flag\u001b[39;00m\n\u001b[1;32m    112\u001b[0m \u001b[38;5;124;03m    `self.return_sh_hh` to be True.\u001b[39;00m\n\u001b[0;32m   (...)\u001b[0m\n\u001b[1;32m    116\u001b[0m \u001b[38;5;124;03m    calculate it and store it to ``current_stats``.\u001b[39;00m\n\u001b[1;32m    117\u001b[0m \u001b[38;5;124;03m    \"\"\"\u001b[39;00m\n\u001b[0;32m--> 118\u001b[0m     \u001b[38;5;28;01mreturn\u001b[39;00m \u001b[38;5;28;43mself\u001b[39;49m\u001b[38;5;241;43m.\u001b[39;49m\u001b[43m_trytoget\u001b[49m\u001b[43m(\u001b[49m\u001b[38;5;124;43m'\u001b[39;49m\u001b[38;5;124;43mloglr\u001b[39;49m\u001b[38;5;124;43m'\u001b[39;49m\u001b[43m,\u001b[49m\u001b[43m \u001b[49m\u001b[38;5;28;43mself\u001b[39;49m\u001b[38;5;241;43m.\u001b[39;49m\u001b[43m_loglr\u001b[49m\u001b[43m,\u001b[49m\u001b[43m \u001b[49m\u001b[43mapply_transforms\u001b[49m\u001b[38;5;241;43m=\u001b[39;49m\u001b[38;5;28;43;01mTrue\u001b[39;49;00m\u001b[43m)\u001b[49m\n",
      "File \u001b[0;32m~/miniconda3/envs/pycbc_env/lib/python3.9/site-packages/pycbc/inference/models/base.py:509\u001b[0m, in \u001b[0;36mBaseModel._trytoget\u001b[0;34m(self, statname, fallback, apply_transforms, **kwargs)\u001b[0m\n\u001b[1;32m    505\u001b[0m \u001b[38;5;28;01mif\u001b[39;00m apply_transforms \u001b[38;5;129;01mand\u001b[39;00m \u001b[38;5;28mself\u001b[39m\u001b[38;5;241m.\u001b[39mwaveform_transforms \u001b[38;5;129;01mis\u001b[39;00m \u001b[38;5;129;01mnot\u001b[39;00m \u001b[38;5;28;01mNone\u001b[39;00m:\n\u001b[1;32m    506\u001b[0m     \u001b[38;5;28mself\u001b[39m\u001b[38;5;241m.\u001b[39m_current_params \u001b[38;5;241m=\u001b[39m transforms\u001b[38;5;241m.\u001b[39mapply_transforms(\n\u001b[1;32m    507\u001b[0m         \u001b[38;5;28mself\u001b[39m\u001b[38;5;241m.\u001b[39m_current_params, \u001b[38;5;28mself\u001b[39m\u001b[38;5;241m.\u001b[39mwaveform_transforms,\n\u001b[1;32m    508\u001b[0m         inverse\u001b[38;5;241m=\u001b[39m\u001b[38;5;28;01mFalse\u001b[39;00m)\n\u001b[0;32m--> 509\u001b[0m val \u001b[38;5;241m=\u001b[39m \u001b[43mfallback\u001b[49m\u001b[43m(\u001b[49m\u001b[38;5;241;43m*\u001b[39;49m\u001b[38;5;241;43m*\u001b[39;49m\u001b[43mkwargs\u001b[49m\u001b[43m)\u001b[49m\n\u001b[1;32m    510\u001b[0m \u001b[38;5;28msetattr\u001b[39m(\u001b[38;5;28mself\u001b[39m\u001b[38;5;241m.\u001b[39m_current_stats, statname, val)\n\u001b[1;32m    511\u001b[0m \u001b[38;5;28;01mreturn\u001b[39;00m val\n",
      "File \u001b[0;32m~/miniconda3/envs/pycbc_env/lib/python3.9/site-packages/pycbc/inference/models/gaussian_noise.py:59\u001b[0m, in \u001b[0;36mcatch_waveform_error.<locals>.method_wrapper\u001b[0;34m(self, *args, **kwargs)\u001b[0m\n\u001b[1;32m     56\u001b[0m \u001b[38;5;129m@wraps\u001b[39m(method)\n\u001b[1;32m     57\u001b[0m \u001b[38;5;28;01mdef\u001b[39;00m\u001b[38;5;250m \u001b[39m\u001b[38;5;21mmethod_wrapper\u001b[39m(\u001b[38;5;28mself\u001b[39m, \u001b[38;5;241m*\u001b[39margs, \u001b[38;5;241m*\u001b[39m\u001b[38;5;241m*\u001b[39mkwargs):\n\u001b[1;32m     58\u001b[0m     \u001b[38;5;28;01mtry\u001b[39;00m:\n\u001b[0;32m---> 59\u001b[0m         retval \u001b[38;5;241m=\u001b[39m \u001b[43mmethod\u001b[49m\u001b[43m(\u001b[49m\u001b[38;5;28;43mself\u001b[39;49m\u001b[43m,\u001b[49m\u001b[43m \u001b[49m\u001b[38;5;241;43m*\u001b[39;49m\u001b[43margs\u001b[49m\u001b[43m,\u001b[49m\u001b[43m \u001b[49m\u001b[38;5;241;43m*\u001b[39;49m\u001b[38;5;241;43m*\u001b[39;49m\u001b[43mkwargs\u001b[49m\u001b[43m)\u001b[49m\n\u001b[1;32m     60\u001b[0m     \u001b[38;5;28;01mexcept\u001b[39;00m NoWaveformError:\n\u001b[1;32m     61\u001b[0m         retval \u001b[38;5;241m=\u001b[39m \u001b[38;5;28mself\u001b[39m\u001b[38;5;241m.\u001b[39m_nowaveform_handler()\n",
      "File \u001b[0;32m~/miniconda3/envs/pycbc_env/lib/python3.9/site-packages/pycbc/inference/models/gaussian_noise.py:999\u001b[0m, in \u001b[0;36mGaussianNoise._loglr\u001b[0;34m(self)\u001b[0m\n\u001b[1;32m    982\u001b[0m \u001b[38;5;129m@catch_waveform_error\u001b[39m\n\u001b[1;32m    983\u001b[0m \u001b[38;5;28;01mdef\u001b[39;00m\u001b[38;5;250m \u001b[39m\u001b[38;5;21m_loglr\u001b[39m(\u001b[38;5;28mself\u001b[39m):\n\u001b[1;32m    984\u001b[0m \u001b[38;5;250m    \u001b[39m\u001b[38;5;124mr\u001b[39m\u001b[38;5;124;03m\"\"\"Computes the log likelihood ratio,\u001b[39;00m\n\u001b[1;32m    985\u001b[0m \n\u001b[1;32m    986\u001b[0m \u001b[38;5;124;03m    .. math::\u001b[39;00m\n\u001b[0;32m   (...)\u001b[0m\n\u001b[1;32m    997\u001b[0m \u001b[38;5;124;03m        The value of the log likelihood ratio.\u001b[39;00m\n\u001b[1;32m    998\u001b[0m \u001b[38;5;124;03m    \"\"\"\u001b[39;00m\n\u001b[0;32m--> 999\u001b[0m     wfs \u001b[38;5;241m=\u001b[39m \u001b[38;5;28;43mself\u001b[39;49m\u001b[38;5;241;43m.\u001b[39;49m\u001b[43mget_waveforms\u001b[49m\u001b[43m(\u001b[49m\u001b[43m)\u001b[49m\n\u001b[1;32m   1000\u001b[0m     lr \u001b[38;5;241m=\u001b[39m \u001b[38;5;241m0.\u001b[39m\n\u001b[1;32m   1001\u001b[0m     \u001b[38;5;28;01mfor\u001b[39;00m det, h \u001b[38;5;129;01min\u001b[39;00m wfs\u001b[38;5;241m.\u001b[39mitems():\n\u001b[1;32m   1002\u001b[0m         \u001b[38;5;66;03m# the kmax of the waveforms may be different than internal kmax\u001b[39;00m\n",
      "File \u001b[0;32m~/miniconda3/envs/pycbc_env/lib/python3.9/site-packages/pycbc/inference/models/gaussian_noise.py:974\u001b[0m, in \u001b[0;36mGaussianNoise.get_waveforms\u001b[0;34m(self)\u001b[0m\n\u001b[1;32m    972\u001b[0m params \u001b[38;5;241m=\u001b[39m \u001b[38;5;28mself\u001b[39m\u001b[38;5;241m.\u001b[39mcurrent_params\n\u001b[1;32m    973\u001b[0m \u001b[38;5;28;01mif\u001b[39;00m \u001b[38;5;28mself\u001b[39m\u001b[38;5;241m.\u001b[39mall_ifodata_same_rate_length:\n\u001b[0;32m--> 974\u001b[0m     wfs \u001b[38;5;241m=\u001b[39m \u001b[38;5;28;43mself\u001b[39;49m\u001b[38;5;241;43m.\u001b[39;49m\u001b[43mwaveform_generator\u001b[49m\u001b[38;5;241;43m.\u001b[39;49m\u001b[43mgenerate\u001b[49m\u001b[43m(\u001b[49m\u001b[38;5;241;43m*\u001b[39;49m\u001b[38;5;241;43m*\u001b[39;49m\u001b[43mparams\u001b[49m\u001b[43m)\u001b[49m\n\u001b[1;32m    975\u001b[0m \u001b[38;5;28;01melse\u001b[39;00m:\n\u001b[1;32m    976\u001b[0m     wfs \u001b[38;5;241m=\u001b[39m {}\n",
      "File \u001b[0;32m~/miniconda3/envs/pycbc_env/lib/python3.9/site-packages/pycbc/waveform/generator.py:659\u001b[0m, in \u001b[0;36mFDomainDetFrameGenerator.generate\u001b[0;34m(self, **kwargs)\u001b[0m\n\u001b[1;32m    656\u001b[0m \u001b[38;5;28mself\u001b[39m\u001b[38;5;241m.\u001b[39mcurrent_params\u001b[38;5;241m.\u001b[39mupdate(kwargs)\n\u001b[1;32m    657\u001b[0m rfparams \u001b[38;5;241m=\u001b[39m {param: \u001b[38;5;28mself\u001b[39m\u001b[38;5;241m.\u001b[39mcurrent_params[param]\n\u001b[1;32m    658\u001b[0m     \u001b[38;5;28;01mfor\u001b[39;00m param \u001b[38;5;129;01min\u001b[39;00m kwargs \u001b[38;5;28;01mif\u001b[39;00m param \u001b[38;5;129;01mnot\u001b[39;00m \u001b[38;5;129;01min\u001b[39;00m \u001b[38;5;28mself\u001b[39m\u001b[38;5;241m.\u001b[39mlocation_args}\n\u001b[0;32m--> 659\u001b[0m hp, hc \u001b[38;5;241m=\u001b[39m \u001b[38;5;28;43mself\u001b[39;49m\u001b[38;5;241;43m.\u001b[39;49m\u001b[43mrframe_generator\u001b[49m\u001b[38;5;241;43m.\u001b[39;49m\u001b[43mgenerate\u001b[49m\u001b[43m(\u001b[49m\u001b[38;5;241;43m*\u001b[39;49m\u001b[38;5;241;43m*\u001b[39;49m\u001b[43mrfparams\u001b[49m\u001b[43m)\u001b[49m\n\u001b[1;32m    660\u001b[0m \u001b[38;5;28;01mif\u001b[39;00m \u001b[38;5;28misinstance\u001b[39m(hp, TimeSeries):\n\u001b[1;32m    661\u001b[0m     df \u001b[38;5;241m=\u001b[39m \u001b[38;5;28mself\u001b[39m\u001b[38;5;241m.\u001b[39mcurrent_params[\u001b[38;5;124m'\u001b[39m\u001b[38;5;124mdelta_f\u001b[39m\u001b[38;5;124m'\u001b[39m]\n",
      "File \u001b[0;32m~/miniconda3/envs/pycbc_env/lib/python3.9/site-packages/pycbc/waveform/generator.py:115\u001b[0m, in \u001b[0;36mBaseGenerator.generate\u001b[0;34m(self, **kwargs)\u001b[0m\n\u001b[1;32m    111\u001b[0m \u001b[38;5;250m\u001b[39m\u001b[38;5;124;03m\"\"\"Generates a waveform from the keyword args. The current params\u001b[39;00m\n\u001b[1;32m    112\u001b[0m \u001b[38;5;124;03mare updated with the given kwargs, then the generator is called.\u001b[39;00m\n\u001b[1;32m    113\u001b[0m \u001b[38;5;124;03m\"\"\"\u001b[39;00m\n\u001b[1;32m    114\u001b[0m \u001b[38;5;28mself\u001b[39m\u001b[38;5;241m.\u001b[39mcurrent_params\u001b[38;5;241m.\u001b[39mupdate(kwargs)\n\u001b[0;32m--> 115\u001b[0m \u001b[38;5;28;01mreturn\u001b[39;00m \u001b[38;5;28;43mself\u001b[39;49m\u001b[38;5;241;43m.\u001b[39;49m\u001b[43m_generate_from_current\u001b[49m\u001b[43m(\u001b[49m\u001b[43m)\u001b[49m\n",
      "File \u001b[0;32m~/miniconda3/envs/pycbc_env/lib/python3.9/site-packages/pycbc/waveform/generator.py:136\u001b[0m, in \u001b[0;36mBaseGenerator._gdecorator.<locals>.dostuff\u001b[0;34m(self)\u001b[0m\n\u001b[1;32m    134\u001b[0m \u001b[38;5;28;01mfor\u001b[39;00m func \u001b[38;5;129;01min\u001b[39;00m \u001b[38;5;28mself\u001b[39m\u001b[38;5;241m.\u001b[39m_pregenerate_functions:\n\u001b[1;32m    135\u001b[0m     \u001b[38;5;28mself\u001b[39m\u001b[38;5;241m.\u001b[39mcurrent_params \u001b[38;5;241m=\u001b[39m func(\u001b[38;5;28mself\u001b[39m\u001b[38;5;241m.\u001b[39mcurrent_params)\n\u001b[0;32m--> 136\u001b[0m res \u001b[38;5;241m=\u001b[39m \u001b[43mgenerate_func\u001b[49m\u001b[43m(\u001b[49m\u001b[38;5;28;43mself\u001b[39;49m\u001b[43m)\u001b[49m \u001b[38;5;66;03m# pylint:disable=not-callable\u001b[39;00m\n\u001b[1;32m    137\u001b[0m \u001b[38;5;28;01mreturn\u001b[39;00m \u001b[38;5;28mself\u001b[39m\u001b[38;5;241m.\u001b[39m_postgenerate(res)\n",
      "File \u001b[0;32m~/miniconda3/envs/pycbc_env/lib/python3.9/site-packages/pycbc/waveform/generator.py:145\u001b[0m, in \u001b[0;36mBaseGenerator._generate_from_current\u001b[0;34m(self)\u001b[0m\n\u001b[1;32m    142\u001b[0m \u001b[38;5;250m\u001b[39m\u001b[38;5;124;03m\"\"\"Generates a waveform from the current parameters.\u001b[39;00m\n\u001b[1;32m    143\u001b[0m \u001b[38;5;124;03m\"\"\"\u001b[39;00m\n\u001b[1;32m    144\u001b[0m \u001b[38;5;28;01mtry\u001b[39;00m:\n\u001b[0;32m--> 145\u001b[0m     new_waveform \u001b[38;5;241m=\u001b[39m \u001b[38;5;28;43mself\u001b[39;49m\u001b[38;5;241;43m.\u001b[39;49m\u001b[43mgenerator\u001b[49m\u001b[43m(\u001b[49m\u001b[38;5;241;43m*\u001b[39;49m\u001b[38;5;241;43m*\u001b[39;49m\u001b[38;5;28;43mself\u001b[39;49m\u001b[38;5;241;43m.\u001b[39;49m\u001b[43mcurrent_params\u001b[49m\u001b[43m)\u001b[49m\n\u001b[1;32m    146\u001b[0m     \u001b[38;5;28;01mreturn\u001b[39;00m new_waveform\n\u001b[1;32m    147\u001b[0m \u001b[38;5;28;01mexcept\u001b[39;00m \u001b[38;5;167;01mRuntimeError\u001b[39;00m \u001b[38;5;28;01mas\u001b[39;00m e:\n",
      "File \u001b[0;32m~/miniconda3/envs/pycbc_env/lib/python3.9/site-packages/pycbc/waveform/waveform.py:647\u001b[0m, in \u001b[0;36mget_fd_waveform\u001b[0;34m(template, **kwargs)\u001b[0m\n\u001b[1;32m    645\u001b[0m     required \u001b[38;5;241m=\u001b[39m parameters\u001b[38;5;241m.\u001b[39mfd_required\n\u001b[1;32m    646\u001b[0m check_args(input_params, required)\n\u001b[0;32m--> 647\u001b[0m \u001b[38;5;28;01mreturn\u001b[39;00m \u001b[43mwav_gen\u001b[49m\u001b[43m(\u001b[49m\u001b[38;5;241;43m*\u001b[39;49m\u001b[38;5;241;43m*\u001b[39;49m\u001b[43minput_params\u001b[49m\u001b[43m)\u001b[49m\n",
      "File \u001b[0;32m~/miniconda3/envs/pycbc_env/lib/python3.9/site-packages/pycbc/waveform/waveform.py:241\u001b[0m, in \u001b[0;36m_lalsim_fd_waveform\u001b[0;34m(**p)\u001b[0m\n\u001b[1;32m    239\u001b[0m \u001b[38;5;28;01mdef\u001b[39;00m\u001b[38;5;250m \u001b[39m\u001b[38;5;21m_lalsim_fd_waveform\u001b[39m(\u001b[38;5;241m*\u001b[39m\u001b[38;5;241m*\u001b[39mp):\n\u001b[1;32m    240\u001b[0m     lal_pars \u001b[38;5;241m=\u001b[39m _check_lal_pars(p)\n\u001b[0;32m--> 241\u001b[0m     hp1, hc1 \u001b[38;5;241m=\u001b[39m \u001b[43mlalsimulation\u001b[49m\u001b[38;5;241;43m.\u001b[39;49m\u001b[43mSimInspiralChooseFDWaveform\u001b[49m\u001b[43m(\u001b[49m\n\u001b[1;32m    242\u001b[0m \u001b[43m               \u001b[49m\u001b[38;5;28;43mfloat\u001b[39;49m\u001b[43m(\u001b[49m\u001b[43mpnutils\u001b[49m\u001b[38;5;241;43m.\u001b[39;49m\u001b[43msolar_mass_to_kg\u001b[49m\u001b[43m(\u001b[49m\u001b[43mp\u001b[49m\u001b[43m[\u001b[49m\u001b[38;5;124;43m'\u001b[39;49m\u001b[38;5;124;43mmass1\u001b[39;49m\u001b[38;5;124;43m'\u001b[39;49m\u001b[43m]\u001b[49m\u001b[43m)\u001b[49m\u001b[43m)\u001b[49m\u001b[43m,\u001b[49m\n\u001b[1;32m    243\u001b[0m \u001b[43m               \u001b[49m\u001b[38;5;28;43mfloat\u001b[39;49m\u001b[43m(\u001b[49m\u001b[43mpnutils\u001b[49m\u001b[38;5;241;43m.\u001b[39;49m\u001b[43msolar_mass_to_kg\u001b[49m\u001b[43m(\u001b[49m\u001b[43mp\u001b[49m\u001b[43m[\u001b[49m\u001b[38;5;124;43m'\u001b[39;49m\u001b[38;5;124;43mmass2\u001b[39;49m\u001b[38;5;124;43m'\u001b[39;49m\u001b[43m]\u001b[49m\u001b[43m)\u001b[49m\u001b[43m)\u001b[49m\u001b[43m,\u001b[49m\n\u001b[1;32m    244\u001b[0m \u001b[43m               \u001b[49m\u001b[38;5;28;43mfloat\u001b[39;49m\u001b[43m(\u001b[49m\u001b[43mp\u001b[49m\u001b[43m[\u001b[49m\u001b[38;5;124;43m'\u001b[39;49m\u001b[38;5;124;43mspin1x\u001b[39;49m\u001b[38;5;124;43m'\u001b[39;49m\u001b[43m]\u001b[49m\u001b[43m)\u001b[49m\u001b[43m,\u001b[49m\u001b[43m \u001b[49m\u001b[38;5;28;43mfloat\u001b[39;49m\u001b[43m(\u001b[49m\u001b[43mp\u001b[49m\u001b[43m[\u001b[49m\u001b[38;5;124;43m'\u001b[39;49m\u001b[38;5;124;43mspin1y\u001b[39;49m\u001b[38;5;124;43m'\u001b[39;49m\u001b[43m]\u001b[49m\u001b[43m)\u001b[49m\u001b[43m,\u001b[49m\u001b[43m \u001b[49m\u001b[38;5;28;43mfloat\u001b[39;49m\u001b[43m(\u001b[49m\u001b[43mp\u001b[49m\u001b[43m[\u001b[49m\u001b[38;5;124;43m'\u001b[39;49m\u001b[38;5;124;43mspin1z\u001b[39;49m\u001b[38;5;124;43m'\u001b[39;49m\u001b[43m]\u001b[49m\u001b[43m)\u001b[49m\u001b[43m,\u001b[49m\n\u001b[1;32m    245\u001b[0m \u001b[43m               \u001b[49m\u001b[38;5;28;43mfloat\u001b[39;49m\u001b[43m(\u001b[49m\u001b[43mp\u001b[49m\u001b[43m[\u001b[49m\u001b[38;5;124;43m'\u001b[39;49m\u001b[38;5;124;43mspin2x\u001b[39;49m\u001b[38;5;124;43m'\u001b[39;49m\u001b[43m]\u001b[49m\u001b[43m)\u001b[49m\u001b[43m,\u001b[49m\u001b[43m \u001b[49m\u001b[38;5;28;43mfloat\u001b[39;49m\u001b[43m(\u001b[49m\u001b[43mp\u001b[49m\u001b[43m[\u001b[49m\u001b[38;5;124;43m'\u001b[39;49m\u001b[38;5;124;43mspin2y\u001b[39;49m\u001b[38;5;124;43m'\u001b[39;49m\u001b[43m]\u001b[49m\u001b[43m)\u001b[49m\u001b[43m,\u001b[49m\u001b[43m \u001b[49m\u001b[38;5;28;43mfloat\u001b[39;49m\u001b[43m(\u001b[49m\u001b[43mp\u001b[49m\u001b[43m[\u001b[49m\u001b[38;5;124;43m'\u001b[39;49m\u001b[38;5;124;43mspin2z\u001b[39;49m\u001b[38;5;124;43m'\u001b[39;49m\u001b[43m]\u001b[49m\u001b[43m)\u001b[49m\u001b[43m,\u001b[49m\n\u001b[1;32m    246\u001b[0m \u001b[43m               \u001b[49m\u001b[43mpnutils\u001b[49m\u001b[38;5;241;43m.\u001b[39;49m\u001b[43mmegaparsecs_to_meters\u001b[49m\u001b[43m(\u001b[49m\u001b[38;5;28;43mfloat\u001b[39;49m\u001b[43m(\u001b[49m\u001b[43mp\u001b[49m\u001b[43m[\u001b[49m\u001b[38;5;124;43m'\u001b[39;49m\u001b[38;5;124;43mdistance\u001b[39;49m\u001b[38;5;124;43m'\u001b[39;49m\u001b[43m]\u001b[49m\u001b[43m)\u001b[49m\u001b[43m)\u001b[49m\u001b[43m,\u001b[49m\n\u001b[1;32m    247\u001b[0m \u001b[43m               \u001b[49m\u001b[38;5;28;43mfloat\u001b[39;49m\u001b[43m(\u001b[49m\u001b[43mp\u001b[49m\u001b[43m[\u001b[49m\u001b[38;5;124;43m'\u001b[39;49m\u001b[38;5;124;43minclination\u001b[39;49m\u001b[38;5;124;43m'\u001b[39;49m\u001b[43m]\u001b[49m\u001b[43m)\u001b[49m\u001b[43m,\u001b[49m\u001b[43m \u001b[49m\u001b[38;5;28;43mfloat\u001b[39;49m\u001b[43m(\u001b[49m\u001b[43mp\u001b[49m\u001b[43m[\u001b[49m\u001b[38;5;124;43m'\u001b[39;49m\u001b[38;5;124;43mcoa_phase\u001b[39;49m\u001b[38;5;124;43m'\u001b[39;49m\u001b[43m]\u001b[49m\u001b[43m)\u001b[49m\u001b[43m,\u001b[49m\n\u001b[1;32m    248\u001b[0m \u001b[43m               \u001b[49m\u001b[38;5;28;43mfloat\u001b[39;49m\u001b[43m(\u001b[49m\u001b[43mp\u001b[49m\u001b[43m[\u001b[49m\u001b[38;5;124;43m'\u001b[39;49m\u001b[38;5;124;43mlong_asc_nodes\u001b[39;49m\u001b[38;5;124;43m'\u001b[39;49m\u001b[43m]\u001b[49m\u001b[43m)\u001b[49m\u001b[43m,\u001b[49m\u001b[43m \u001b[49m\u001b[38;5;28;43mfloat\u001b[39;49m\u001b[43m(\u001b[49m\u001b[43mp\u001b[49m\u001b[43m[\u001b[49m\u001b[38;5;124;43m'\u001b[39;49m\u001b[38;5;124;43meccentricity\u001b[39;49m\u001b[38;5;124;43m'\u001b[39;49m\u001b[43m]\u001b[49m\u001b[43m)\u001b[49m\u001b[43m,\u001b[49m\u001b[43m \u001b[49m\u001b[38;5;28;43mfloat\u001b[39;49m\u001b[43m(\u001b[49m\u001b[43mp\u001b[49m\u001b[43m[\u001b[49m\u001b[38;5;124;43m'\u001b[39;49m\u001b[38;5;124;43mmean_per_ano\u001b[39;49m\u001b[38;5;124;43m'\u001b[39;49m\u001b[43m]\u001b[49m\u001b[43m)\u001b[49m\u001b[43m,\u001b[49m\n\u001b[1;32m    249\u001b[0m \u001b[43m               \u001b[49m\u001b[43mp\u001b[49m\u001b[43m[\u001b[49m\u001b[38;5;124;43m'\u001b[39;49m\u001b[38;5;124;43mdelta_f\u001b[39;49m\u001b[38;5;124;43m'\u001b[39;49m\u001b[43m]\u001b[49m\u001b[43m,\u001b[49m\u001b[43m \u001b[49m\u001b[38;5;28;43mfloat\u001b[39;49m\u001b[43m(\u001b[49m\u001b[43mp\u001b[49m\u001b[43m[\u001b[49m\u001b[38;5;124;43m'\u001b[39;49m\u001b[38;5;124;43mf_lower\u001b[39;49m\u001b[38;5;124;43m'\u001b[39;49m\u001b[43m]\u001b[49m\u001b[43m)\u001b[49m\u001b[43m,\u001b[49m\u001b[43m \u001b[49m\u001b[38;5;28;43mfloat\u001b[39;49m\u001b[43m(\u001b[49m\u001b[43mp\u001b[49m\u001b[43m[\u001b[49m\u001b[38;5;124;43m'\u001b[39;49m\u001b[38;5;124;43mf_final\u001b[39;49m\u001b[38;5;124;43m'\u001b[39;49m\u001b[43m]\u001b[49m\u001b[43m)\u001b[49m\u001b[43m,\u001b[49m\u001b[43m \u001b[49m\u001b[38;5;28;43mfloat\u001b[39;49m\u001b[43m(\u001b[49m\u001b[43mp\u001b[49m\u001b[43m[\u001b[49m\u001b[38;5;124;43m'\u001b[39;49m\u001b[38;5;124;43mf_ref\u001b[39;49m\u001b[38;5;124;43m'\u001b[39;49m\u001b[43m]\u001b[49m\u001b[43m)\u001b[49m\u001b[43m,\u001b[49m\n\u001b[1;32m    250\u001b[0m \u001b[43m               \u001b[49m\u001b[43mlal_pars\u001b[49m\u001b[43m,\u001b[49m\n\u001b[1;32m    251\u001b[0m \u001b[43m               \u001b[49m\u001b[43m_lalsim_enum\u001b[49m\u001b[43m[\u001b[49m\u001b[43mp\u001b[49m\u001b[43m[\u001b[49m\u001b[38;5;124;43m'\u001b[39;49m\u001b[38;5;124;43mapproximant\u001b[39;49m\u001b[38;5;124;43m'\u001b[39;49m\u001b[43m]\u001b[49m\u001b[43m]\u001b[49m\u001b[43m)\u001b[49m\n\u001b[1;32m    253\u001b[0m     hp \u001b[38;5;241m=\u001b[39m FrequencySeries(hp1\u001b[38;5;241m.\u001b[39mdata\u001b[38;5;241m.\u001b[39mdata[:], delta_f\u001b[38;5;241m=\u001b[39mhp1\u001b[38;5;241m.\u001b[39mdeltaF,\n\u001b[1;32m    254\u001b[0m                             epoch\u001b[38;5;241m=\u001b[39mhp1\u001b[38;5;241m.\u001b[39mepoch)\n\u001b[1;32m    256\u001b[0m     hc \u001b[38;5;241m=\u001b[39m FrequencySeries(hc1\u001b[38;5;241m.\u001b[39mdata\u001b[38;5;241m.\u001b[39mdata[:], delta_f\u001b[38;5;241m=\u001b[39mhc1\u001b[38;5;241m.\u001b[39mdeltaF,\n\u001b[1;32m    257\u001b[0m                             epoch\u001b[38;5;241m=\u001b[39mhc1\u001b[38;5;241m.\u001b[39mepoch)\n",
      "\u001b[0;31mKeyboardInterrupt\u001b[0m: "
     ]
    }
   ],
   "source": [
    "pi2 = 2*np.pi\n",
    "mc_bound = (28, 30)\n",
    "q_bound = (1,2)\n",
    "spin1z_bound = (-0.97,0.97)\n",
    "spin2z_bound = (-0.97,0.97)\n",
    "distance_bound = (10,10000)\n",
    "ra_bound = (0,np.pi)\n",
    "dec_bound = (-pi2,pi2)\n",
    "pola_bound = (0,np.pi)\n",
    "incl_bound = (0,np.pi)\n",
    "tc_bound = (1001620450,1001620463)\n",
    "phase_bound = (0, pi2)\n",
    "bounds = [mc_bound, q_bound,spin1z_bound,spin2z_bound,ra_bound,dec_bound,distance_bound,pola_bound,incl_bound,tc_bound,phase_bound]\n",
    "\n",
    "res = model.maximize(bounds, max_iterations=20, tol=1e-6)\n",
    "print(model.maximized_params)\n",
    "print(model.injection_params)"
   ]
  },
  {
   "cell_type": "markdown",
   "id": "a8193cfe-cc8d-4549-a245-a50184be3fc7",
   "metadata": {},
   "source": [
    "## 4 - Reconstruct the signal and compare with the injected signal\n",
    "\n",
    "The method reconstruct_signal() builds a signal from the maximized parameters. We can then translate it in the time domain and compare with the true injected signal."
   ]
  },
  {
   "cell_type": "code",
   "execution_count": 5,
   "id": "0f1ef078-dbad-486c-bcbd-4a56a4eab6f2",
   "metadata": {},
   "outputs": [
    {
     "name": "stdout",
     "output_type": "stream",
     "text": [
      "Waveform approximate duration: 31.9s\n",
      "Segment duration: 64.0s\n"
     ]
    }
   ],
   "source": [
    "signal_reconstructed_f, signal_reconstructed_t = model.reconstruct_signal()"
   ]
  },
  {
   "cell_type": "code",
   "execution_count": 6,
   "id": "a402adb3-2d17-4c28-b3dd-d067a40ffb6d",
   "metadata": {},
   "outputs": [],
   "source": [
    "original_time_domain_signals = {'E1': model.data['E1'].to_timeseries(),\n",
    "                                'E2': model.data['E2'].to_timeseries(),\n",
    "                                'E3': model.data['E3'].to_timeseries(),\n",
    "                               }\n",
    "residuals = subtract_signal(original_time_domain_signals, signal_reconstructed_t)"
   ]
  },
  {
   "cell_type": "code",
   "execution_count": 7,
   "id": "329b15b1-851b-4b85-8f6f-0e7f5ae23b7c",
   "metadata": {},
   "outputs": [
    {
     "data": {
      "text/plain": [
       "<matplotlib.legend.Legend at 0x169327190>"
      ]
     },
     "execution_count": 7,
     "metadata": {},
     "output_type": "execute_result"
    },
    {
     "data": {
      "image/png": "[encoded data removed]",
      "text/plain": [
       "<Figure size 640x480 with 1 Axes>"
      ]
     },
     "metadata": {},
     "output_type": "display_data"
    }
   ],
   "source": [
    "\n",
    "plt.figure()\n",
    "ax = plt.gca()\n",
    "ax.plot(signal_reconstructed_t['E1'].get_sample_times(), signal_reconstructed_t['E1'], label='Reconstructed')\n",
    "ax.plot(original_time_domain_signals['E1'].get_sample_times(), original_time_domain_signals['E1'], label='Injected')\n",
    "ax.plot(residuals['E1'].get_sample_times(), residuals['E1'], label='Residual')\n",
    "\n",
    "ax.legend()\n"
   ]
  },
  {
   "cell_type": "markdown",
   "id": "ddd41c31-13f8-4e21-b12a-3c1be8f55252",
   "metadata": {},
   "source": [
    "### Computing time\n",
    "\n",
    "* The longer the signal is, the longer it takes to generate it and therefore maximize the likelihood. CBC signals become longer when we decrease the minimal frequency and/or the chirp mass.\n",
    "* For the ET MDC, we would ideally want to go down to a minimal frequency of 5 Hz and chirp mass of 1.21 solar masses. In this case the signal lasts more than 6000s. It is possible that it takes too much computing time. If that's the case, we could decide to increase the minimal frequency to keep the computing cost manageable."
   ]
  }
 ],
 "metadata": {
  "kernelspec": {
   "display_name": "pycbc_env",
   "language": "python",
   "name": "python3"
  },
  "language_info": {
   "codemirror_mode": {
    "name": "ipython",
    "version": 3
   },
   "file_extension": ".py",
   "mimetype": "text/x-python",
   "name": "python",
   "nbconvert_exporter": "python",
   "pygments_lexer": "ipython3",
   "version": "3.9.21"
  }
 },
 "nbformat": 4,
 "nbformat_minor": 5
}
