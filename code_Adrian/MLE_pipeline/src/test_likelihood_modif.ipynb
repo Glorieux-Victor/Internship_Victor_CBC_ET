{
 "cells": [
  {
   "cell_type": "markdown",
   "id": "dbda8440-ea28-423a-9753-69a332646d34",
   "metadata": {},
   "source": [
    "# Test `MDCGaussianNoise`\n",
    "\n",
    "This notebook tests the class `MDCGaussianNoise` implemented in `likelihood.py`.\n",
    "\n",
    "**Input needed by `MDCGaussianNoise`:**\n",
    "* data : the data segment that we want to analyze. The format should be a dict() where each key represents one detector. The data for each detector should be a pycbc FrequencySeries.\n",
    "* psd : the PSD of the noise (can be estimated or provided, for the moment we just provide it). Same format as *data*.\n",
    "\n",
    "Use `data, psd = get_data.convert_to_frequency_series_with_psd(time_series, return_psd=True)` to get data and psd with the correct format from a dictionary containing gwpy time series read .gwf files.\n",
    "\n",
    "* variable_params : a list of parameters over which we want to maximize. In the most general case it should be ['mass1', 'mass2', 'spin1z', 'spin2z', 'distance', 'polarization', 'inclination', 'tc', 'coa_phase', 'ra', 'dec'], but it is possible to reduce the number of variable parameters to make tests for example.\n",
    "* static_params : a dictionary containing the parameters for which the values are already fixed (in general the spins along the x and y axes).\n",
    "\n",
    "Note that all 15 CBC parameters must be defined, either in *variable_params* or in *static_params*.\n",
    "\n",
    "* approximant and fmin should be defined (the default values 'IMRPhenomXPHM' and 5 Hz are fine).\n",
    "\n",
    "**Optional input:** these are just for testing to compare the values of the parameters we recover to the injected values.\n",
    "* injection_params : a dictionary contaning the parameters of the injected signal if we know them.\n",
    "* injection_network_snr : the network SNR of the signal, as listed in the list of MDC signal (2nd column from the end).\n",
    "\n",
    "**Input needed by `maximize`:**\n",
    "For each variable parameter, bounds must be provided.\n",
    "\n",
    "*Warning:* mass1 and mass2 bounds should be replaced with chirp mass and mass ratio.\n",
    "\n",
    "## Example of workflow\n",
    "\n",
    "1. Read MDC data using `get_data.read_MDC_data()` (for example data around a signal with high SNR).\n",
    "2. Prepare frequency domain data and PSD using `get_data.convert_to_frequency_series_with_psd()`.\n",
    "3. Define variable and static params.\n",
    "4. Instanciate a MDCGaussianNoise object.\n",
    "5. Define bounds for each variable parameter.\n",
    "6. Run `maximize()`.\n",
    "7. Compare recovered parameters to injected ones, if they are known. Compare recovered log likelihood ratio to injected network SNR if it is known.\n",
    "8. Run reconstruct_signal(), then subtract_signal() and compare the original data and the reconstructed signal."
   ]
  },
  {
   "cell_type": "code",
   "execution_count": null,
   "id": "e168612b-2e51-40d7-99bd-2eb34df739a5",
   "metadata": {},
   "outputs": [],
   "source": [
    "from generate_data import generate_frequency_domain_signal, default_cbc_params\n",
    "from get_data import get_psd_frequency_series, read_MDC_data, convert_to_frequency_series_with_psd, convert_data_dict_to_frequency_series_dict\n",
    "from likelihood import MDCGaussianNoise, subtract_signal\n",
    "import matplotlib.pyplot as plt\n",
    "import matplotlib as mpl\n",
    "import numpy as np\n",
    "import pandas as pd\n",
    "import time\n",
    "mpl.rcParams['xtick.labelsize'] = 12\n",
    "mpl.rcParams['ytick.labelsize'] = 12\n",
    "mpl.rcParams['axes.labelsize'] = 14\n",
    "mpl.rcParams['axes.titlesize'] = 16\n",
    "mpl.rcParams['legend.fontsize'] = 12\n",
    "mpl.rcParams['font.size'] = 12  # global font size\n",
    "from gwpy.timeseries import TimeSeries\n",
    "from pycbc.types import FrequencySeries\n",
    "from pycbc.types import TimeSeries as PycbcTimeSeries\n",
    "from pycbc.conversions import mchirp_from_mass1_mass2, q_from_mass1_mass2, mass1_from_mchirp_q, mass2_from_mchirp_q\n",
    "import sys\n",
    "sys.path.append('/home/victor-glorieux/Internship_Victor_CBC_ET')\n",
    "sys.path.append('/home/victor/Internship_Victor_CBC_ET')\n",
    "from likelihood_calculation import minimisation_locale, minimisation_globale\n",
    "from fonctions import extraction_temps"
   ]
  },
  {
   "cell_type": "markdown",
   "id": "4d01151c-4576-496b-bd79-6d64efcd5b74",
   "metadata": {},
   "source": [
    "## To test the method - Generate signal\n",
    "\n",
    "To generate a signal (in the frequency domain) using the functions defined in `generate_signal.py`."
   ]
  },
  {
   "cell_type": "code",
   "execution_count": null,
   "id": "0df670c9-fa91-472f-9333-b72865b14362",
   "metadata": {},
   "outputs": [],
   "source": [
    "cbc_params = {\n",
    "              'mass1': 38.6,\n",
    "              'mass2': 29.3,\n",
    "              'spin1x': 0., 'spin2x': 0.,  'spin1y': 0., 'spin2y': 0.,  'spin1z': 0, 'spin2z': 0, \n",
    "              'eccentricity': 0,\n",
    "              'ra': 1.37, 'dec': -1.26, 'distance': 10000, \n",
    "              'polarization': 2.76, 'inclination': 0,\n",
    "              'tc': 3.1 , 'coa_phase': 0.3,\n",
    "              'approximant': 'IMRPhenomXPHM',\n",
    "              'f_lower': 5\n",
    "                }\n",
    "signal = generate_frequency_domain_signal(cbc_params, ifos=['E1', 'E2', 'E3'])"
   ]
  },
  {
   "cell_type": "markdown",
   "id": "e3798205",
   "metadata": {},
   "source": [
    "## 1 - Extract signal from MDC\n",
    "\n",
    "#### Run within the IJCLab server.\n",
    "\n",
    "To read the signal between $t_\\text{\\ start}$ and $t_\\text{\\ stop}$ in the MDC using the functions defined in `get_data.py`. The data is stored in the $\\texttt{gwpy}$ TimeSeries format, in the folder `data`.\n",
    "\n",
    "The function `extraction_temps` from `fonctions.py` finds $t_0$ and $t_c$ for a specific signal thanks to `list_mdc1_v2.txt`. The type of the signal (1 : NS/NS, 2 : NS/BH, 3 : BH/BH) is asked. $\\texttt{indexes}$ is the list of signals we want to analyse with the SNR decreasing as the index increases (index $_\\text{min}$ = 0)."
   ]
  },
  {
   "cell_type": "code",
   "execution_count": 4,
   "id": "eafaa42b",
   "metadata": {},
   "outputs": [
    {
     "name": "stdout",
     "output_type": "stream",
     "text": [
      "[1001372594.5793889]\n",
      "[1001372606.533215]\n"
     ]
    }
   ],
   "source": [
    "init, final, t0_list, tc_list, interval = extraction_temps(indexes = [10], type = 3, print_ = False)\n",
    "print(t0_list)\n",
    "print(tc_list)"
   ]
  },
  {
   "cell_type": "code",
   "execution_count": 15,
   "id": "8f22d26a",
   "metadata": {},
   "outputs": [],
   "source": [
    "t_start = 1001372594.5793889\n",
    "t_stop = 1001372606.533215 + 0.3\n",
    "\n",
    "ifos=['E1', 'E2', 'E3']\n",
    "data = read_MDC_data(t_start, t_stop)\n",
    "path_data_IJC = \"/home/victor-glorieux/Internship_Victor_CBC_ET/code_Adrian/MLE_pipeline/data/\"\n",
    "for ifo in ifos :\n",
    "    data[ifo].write(path_data_IJC + \"données_\" +  ifo + \".txt\")"
   ]
  },
  {
   "cell_type": "markdown",
   "id": "21cf41da",
   "metadata": {},
   "source": [
    "Test : Creation of the $\\texttt{MDCGaussianNoise}$ model defined in `likelihood.py` and data visualization in time domain."
   ]
  },
  {
   "cell_type": "code",
   "execution_count": 16,
   "id": "afd1e485",
   "metadata": {},
   "outputs": [
    {
     "name": "stdout",
     "output_type": "stream",
     "text": [
      "-102522.13722257133\n"
     ]
    },
    {
     "data": {
      "text/plain": [
       "<matplotlib.legend.Legend at 0x7f44979de970>"
      ]
     },
     "execution_count": 16,
     "metadata": {},
     "output_type": "execute_result"
    },
    {
     "data": {
      "image/png": "[encoded data removed]",
      "text/plain": [
       "<Figure size 640x480 with 1 Axes>"
      ]
     },
     "metadata": {},
     "output_type": "display_data"
    }
   ],
   "source": [
    "data_freq, psds = convert_data_dict_to_frequency_series_dict(data)\n",
    "model = MDCGaussianNoise(data_freq, psds)\n",
    "print(model.lognl)\n",
    "\n",
    "plt.figure()\n",
    "ax = plt.gca()\n",
    "ax.plot(data['E1'].times, data['E1'], label='E1')\n",
    "ax.plot(data['E2'].times, data['E2'], label='E2', alpha=0.7)\n",
    "ax.plot(data['E3'].times, data['E3'], label='E3', alpha=0.7)\n",
    "\n",
    "ax.set_xlabel('GPS time [s]')\n",
    "ax.set_ylabel('Strain')\n",
    "ax.legend()"
   ]
  },
  {
   "cell_type": "markdown",
   "id": "62d8fcec",
   "metadata": {},
   "source": [
    "## 2 - Read signal from MDC\n",
    "\n",
    "Convert the $\\texttt{gwpy}$ TimeSeries from the data stored to $\\texttt{pycbc}$ TimeSeries and FrequencySeries.\n",
    "\n",
    "- $\\texttt{gwpy}$ TimeSeries : data\n",
    "- $\\texttt{pycbc}$ TimeSeries : pycbc_ts\n",
    "- $\\texttt{pycbc}$ FrequencySeries : signal"
   ]
  },
  {
   "cell_type": "code",
   "execution_count": 4,
   "id": "41e5e7fe",
   "metadata": {},
   "outputs": [
    {
     "name": "stderr",
     "output_type": "stream",
     "text": [
      "/home/victor/miniconda3/envs/pycbc_env/lib/python3.9/site-packages/gwpy/timeseries/timeseries.py:930: UserWarning: resample() rate matches current sample_rate (4096.0 Hz), returning input data unmodified; please double-check your parameters\n",
      "  warnings.warn(\n",
      "/home/victor/miniconda3/envs/pycbc_env/lib/python3.9/site-packages/gwpy/timeseries/timeseries.py:930: UserWarning: resample() rate matches current sample_rate (4096.0 Hz), returning input data unmodified; please double-check your parameters\n",
      "  warnings.warn(\n"
     ]
    }
   ],
   "source": [
    "path_data_home = '/home/victor/Internship_Victor_CBC_ET/code_Adrian/MLE_pipeline/data/'\n",
    "data = {}\n",
    "signal = {}\n",
    "ifos=['E1', 'E2', 'E3']\n",
    "for ifo in ifos:\n",
    "    channel = ifo + ':STRAIN'\n",
    "    file = path_data_home + 'données_' + ifo + '.txt'\n",
    "    data[ifo] = TimeSeries.read(file)\n",
    "    data[ifo] = data[ifo].resample(4096)\n",
    "    val = data[ifo].value\n",
    "    delta_t = data[ifo].dt.value\n",
    "    pycbc_ts = PycbcTimeSeries(val, delta_t=delta_t)\n",
    "    signal[ifo] = pycbc_ts.to_frequencyseries()\n",
    "     \n",
    "\n",
    "fft, psd = convert_to_frequency_series_with_psd(data['E1'], return_psd=True)\n",
    "data_freq, psds = convert_data_dict_to_frequency_series_dict(data)"
   ]
  },
  {
   "cell_type": "code",
   "execution_count": 5,
   "id": "766badd6",
   "metadata": {},
   "outputs": [
    {
     "name": "stdout",
     "output_type": "stream",
     "text": [
      "-247113.38673763996\n"
     ]
    }
   ],
   "source": [
    "model = MDCGaussianNoise(data_freq, psds)\n",
    "print(model.lognl)"
   ]
  },
  {
   "cell_type": "markdown",
   "id": "94205230-267a-4ef1-8110-3df820b235f1",
   "metadata": {},
   "source": [
    "## 3 - Create MDCGaussianNoise model\n",
    "\n",
    "We instanciate an MDCGaussianNoise object with the signal we have generated and the PSD used for the ET MDC.\n",
    "\n",
    "Since there is no noise, we verify that the optimal log likelihood is 0 and the optimal log likelihood ratio corresponds to 1/2 of the network SNR. Here \"optimal\" means \"computed for the true parameters of the injected CBC signal\".\n",
    "\n",
    "**Variable and static parameters:**\n",
    "* Variable parameters are the ones that we want to maximize over. They are provided as a list.\n",
    "* Static parameters are fixed: they are provided as a dictionary with known values.\n",
    "\n",
    "All CBC parameters defined in *cbc_params* must be either in *variable_params* or defined in *static_params*. The approximant and lower frequency are always static."
   ]
  },
  {
   "cell_type": "code",
   "execution_count": null,
   "id": "2ee784a9-73d5-465b-aa54-72136677cd92",
   "metadata": {},
   "outputs": [
    {
     "name": "stdout",
     "output_type": "stream",
     "text": [
      "True signal parameters unknown. Cannot compute optimal likelihood.\n",
      "Optimal log likelihood ratio: -1.00\n",
      "Optimal log likelihood: -1.00\n"
     ]
    }
   ],
   "source": [
    "#psd = get_psd_frequency_series(signal['E1'].get_sample_frequencies(), signal['E1'].get_delta_f())\n",
    "#psds = {'E1': psd, 'E2': psd, 'E3': psd}\n",
    "\n",
    "cbc_params = {\n",
    "              'mass1': 38.6,\n",
    "              'mass2': 29.3,\n",
    "              'spin1x': 0., 'spin2x': 0.,  'spin1y': 0., 'spin2y': 0.,  'spin1z': 0, 'spin2z': 0, \n",
    "              'eccentricity': 0,\n",
    "              'ra': 1.37, 'dec': -1.26, 'distance': 10000, \n",
    "              'polarization': 2.76, 'inclination': 0,\n",
    "              'tc': 3.1 , 'coa_phase': 0.3,\n",
    "              'approximant': 'IMRPhenomXPHM',\n",
    "              'f_lower': 5\n",
    "                }\n",
    "\n",
    "variable_params = ['mass1', 'mass2','spin1z', 'spin2z', 'ra', 'dec', 'distance', 'polarization', 'inclination', 'tc', 'coa_phase']\n",
    "static_params = dict(cbc_params)\n",
    "for param in variable_params :\n",
    "    del static_params[param]\n",
    "\n",
    "\n",
    "# We know the signal parameters so we can define injection_params and compute optimal likelihoods\n",
    "model = MDCGaussianNoise(signal, psds, fmin=5, approximant='IMRPhenomXPHM', variable_params=variable_params,\\\n",
    "                         static_params=static_params)\n",
    "\n",
    "# optimal_loglr, optimal_loglikelihood = model.compute_optimal_likelihoods()\n",
    "# print('Optimal log likelihood ratio: ' + format(optimal_loglr, '.2f'))\n",
    "# print('Optimal log likelihood: ' + format(optimal_loglikelihood, '.2f'))\n",
    "\n",
    "#snr_network_sq = model.det_optimal_snrsq('E1') + model.det_optimal_snrsq('E2') + model.det_optimal_snrsq('E3')\n",
    "#print('1/2 network SNR: ' + format(0.5 * snr_network_sq, '.2f'))"
   ]
  },
  {
   "cell_type": "markdown",
   "id": "1ce800de-d0c8-4671-8f12-ad563e2fb9d1",
   "metadata": {},
   "source": [
    "## 4 - Maximize the likelihood\n",
    "\n",
    "The method `maximize()` calls `scipy.optimize.differential_evolution()`. We can specify the maximal number of iterations and the tolerance, which are parameters of `differential_evolution()`. This method automatically defines the bounds on the parameters over which to maximize, with a radius of 10% from the true values (for example if the true chirp mass is 30, it will restrict the chirp mass in the range 27, 33). When doing the full analysis of the MDC, we will use greater bounds since we are not supposed to know the true values of the injected signal."
   ]
  },
  {
   "cell_type": "code",
   "execution_count": 10,
   "id": "69a38673-af81-4155-a6ce-9979f6fe8db9",
   "metadata": {},
   "outputs": [
    {
     "name": "stdout",
     "output_type": "stream",
     "text": [
      "Iteration 1361: negative_loglr = -2268.230413776687\n",
      "Maximization complete\n",
      "Maximum log-likelihood ratio: 2268.230413776687\n",
      "{'mass1': 21.85297196667379, 'mass2': 27.211507532032975, 'spin1z': -0.968738142908677, 'spin2z': -0.9692357393821807, 'ra': 1.2222068353061721, 'dec': -2.908585182365263, 'distance': 323.4667031319516, 'polarization': 1.5291055643746576, 'inclination': 1.6271761839175296, 'tc': 1001620462.9832897, 'coa_phase': 4.022542712861407, 'spin1x': 0.0, 'spin2x': 0.0, 'spin1y': 0.0, 'spin2y': 0.0, 'eccentricity': 0, 'approximant': 'IMRPhenomXPHM', 'f_lower': 5}\n",
      "None\n"
     ]
    }
   ],
   "source": [
    "pi2 = 2*np.pi\n",
    "mc_bound = (20, 25)\n",
    "q_bound = (0.8,1.2)\n",
    "spin1z_bound = (-0.97,0.97)\n",
    "spin2z_bound = (-0.97,0.97)\n",
    "distance_bound = (300,800)\n",
    "ra_bound = (0,np.pi)\n",
    "dec_bound = (-pi2,pi2)\n",
    "pola_bound = (0,np.pi)\n",
    "incl_bound = (0,np.pi)\n",
    "tc_bound = (1001620450,1001620463)\n",
    "phase_bound = (0, pi2)\n",
    "bounds = [mc_bound, q_bound,spin1z_bound,spin2z_bound,ra_bound,dec_bound,distance_bound,pola_bound,incl_bound,tc_bound,phase_bound]\n",
    "\n",
    "start_time = time.time()\n",
    "res = model.maximize(bounds, max_iterations=10000, tol=1e-3)\n",
    "duration_code = time.time() - start_time\n",
    "\n",
    "print(model.maximized_params)\n",
    "print(model.injection_params)"
   ]
  },
  {
   "cell_type": "code",
   "execution_count": null,
   "id": "28426285",
   "metadata": {},
   "outputs": [
    {
     "name": "stdout",
     "output_type": "stream",
     "text": [
      "Iteration 910: negative_loglr = -107314.9353144646\n",
      "             message: Optimization terminated successfully.\n",
      "             success: True\n",
      "                 fun: -135469.57498067818\n",
      "                   x: [ 1.002e+09  2.106e+01  1.074e+00  5.047e+02\n",
      "                        5.361e+00 -3.682e-01  2.345e+00  2.371e+00\n",
      "                       -3.766e-03  1.883e-01  7.467e-01]\n",
      "                 nit: 910\n",
      "                nfev: 150435\n",
      "          population: [[ 1.002e+09  2.106e+01 ...  1.883e-01  7.467e-01]\n",
      "                       [ 1.002e+09  2.106e+01 ...  1.957e-01  8.833e-01]\n",
      "                       ...\n",
      "                       [ 1.002e+09  2.106e+01 ...  2.483e-01  6.377e-01]\n",
      "                       [ 1.002e+09  2.106e+01 ...  2.344e-01  7.387e-01]]\n",
      " population_energies: [-1.355e+05 -1.351e+05 ... -1.353e+05 -1.354e+05]\n"
     ]
    }
   ],
   "source": [
    "#Nelder-Mead,  Powell, L-BFGS-B\n",
    "#differential_evolution, basinhopping\n",
    "mass1_init = 30\n",
    "mass2_init = 30\n",
    "mchirp = mchirp_from_mass1_mass2(mass1_init,mass2_init)\n",
    "q = q_from_mass1_mass2(mass1_init,mass2_init)\n",
    "#true params : (tc=3.1, chirp_mass, q, dist = 1000, ra = 1.37, dec = -1.26, pola=2.76, incl = 0, s1z=0, s2z=0, co_phase = 0)\n",
    "initial_params = [1001620453, 22, 1,   700,       0,      0,    0,       0,    0,       0, 0]\n",
    "\n",
    "start_time = time.time()\n",
    "file_name = 'lik_calculation_follow.txt'\n",
    "result_glob = minimisation_globale(model=model,initial_params = initial_params,method=\"SLSQP\",minimisation='differential_evolution',\n",
    "                                   tol=0.001,nb_iter=100,maxiter=10000, stepsize = 0.1, log_noise_likelihood_from_SNR=0,\n",
    "                                   normalisation=False,save_data=True,file_name=file_name)\n",
    "duration_code = time.time() - start_time\n",
    "print(result_glob)"
   ]
  },
  {
   "cell_type": "code",
   "execution_count": null,
   "id": "7274862e",
   "metadata": {},
   "outputs": [],
   "source": [
    "list_result = result_glob.x\n",
    "mass1 = mass1_from_mchirp_q(list_result[1],list_result[2])\n",
    "mass2 = mass2_from_mchirp_q(list_result[1],list_result[2])\n",
    "result_DF = pd.DataFrame(data={'time_mini' : duration_code, 'mloglik': result_glob.fun, 'tc': list_result[0], 'mass1': mass1,\n",
    "                        'mass2': mass2, 'distance': list_result[3], 'ra' : list_result[4],\n",
    "                        'dec' : list_result[5], 'polarization': list_result[6], 'inclination': list_result[7],\n",
    "                        'spin1z' : list_result[8], 'spin2z' : list_result[9], 'coa_phase': list_result[10],\n",
    "                        'chirp' : list_result[1], 'q' : list_result[2]},index=[0])\n",
    "\n",
    "\n",
    "result_DF.to_csv('/home/victor/Internship_Victor_CBC_ET/code_Adrian/MLE_pipeline/src/result_mini.txt',index = False)"
   ]
  },
  {
   "cell_type": "markdown",
   "id": "a3a58493",
   "metadata": {},
   "source": [
    "## Reconstruc signal test"
   ]
  },
  {
   "cell_type": "code",
   "execution_count": 21,
   "id": "89f667b6",
   "metadata": {},
   "outputs": [
    {
     "name": "stdout",
     "output_type": "stream",
     "text": [
      "Waveform approximate duration: 54.5s\n",
      "Segment duration: 64.0s\n",
      "{'mass1': 21.85297196667379, 'mass2': 27.211507532032975, 'spin1z': -0.968738142908677, 'spin2z': -0.9692357393821807, 'ra': 1.2222068353061721, 'dec': -2.908585182365263, 'distance': 323.4667031319516, 'polarization': 1.5291055643746576, 'inclination': 1.6271761839175296, 'tc': 1001620462.9832897, 'coa_phase': 4.022542712861407, 'spin1x': 0.0, 'spin2x': 0.0, 'spin1y': 0.0, 'spin2y': 0.0, 'eccentricity': 0, 'approximant': 'IMRPhenomXPHM', 'f_lower': 5}\n"
     ]
    },
    {
     "ename": "ValueError",
     "evalue": "Time series does not contain a time as late as 1001620460.6192627",
     "output_type": "error",
     "traceback": [
      "\u001b[0;31m---------------------------------------------------------------------------\u001b[0m",
      "\u001b[0;31mValueError\u001b[0m                                Traceback (most recent call last)",
      "Cell \u001b[0;32mIn[21], line 12\u001b[0m\n\u001b[1;32m     10\u001b[0m end_common \u001b[38;5;241m=\u001b[39m \u001b[38;5;28mmin\u001b[39m(signal_reconstructed_t[\u001b[38;5;124m'\u001b[39m\u001b[38;5;124mE1\u001b[39m\u001b[38;5;124m'\u001b[39m]\u001b[38;5;241m.\u001b[39mend_time, data[\u001b[38;5;124m'\u001b[39m\u001b[38;5;124mE1\u001b[39m\u001b[38;5;124m'\u001b[39m]\u001b[38;5;241m.\u001b[39mt0\u001b[38;5;241m.\u001b[39mvalue \u001b[38;5;241m+\u001b[39m data[\u001b[38;5;124m'\u001b[39m\u001b[38;5;124mE1\u001b[39m\u001b[38;5;124m'\u001b[39m]\u001b[38;5;241m.\u001b[39mduration\u001b[38;5;241m.\u001b[39mvalue)\n\u001b[1;32m     11\u001b[0m end_common\u001b[38;5;241m=\u001b[39mdata[\u001b[38;5;124m'\u001b[39m\u001b[38;5;124mE1\u001b[39m\u001b[38;5;124m'\u001b[39m]\u001b[38;5;241m.\u001b[39mt0\u001b[38;5;241m.\u001b[39mvalue \u001b[38;5;241m+\u001b[39m data[\u001b[38;5;124m'\u001b[39m\u001b[38;5;124mE1\u001b[39m\u001b[38;5;124m'\u001b[39m]\u001b[38;5;241m.\u001b[39mduration\u001b[38;5;241m.\u001b[39mvalue\n\u001b[0;32m---> 12\u001b[0m opti_cut \u001b[38;5;241m=\u001b[39m \u001b[43msignal_reconstructed_t\u001b[49m\u001b[43m[\u001b[49m\u001b[38;5;124;43m'\u001b[39;49m\u001b[38;5;124;43mE1\u001b[39;49m\u001b[38;5;124;43m'\u001b[39;49m\u001b[43m]\u001b[49m\u001b[38;5;241;43m.\u001b[39;49m\u001b[43mtime_slice\u001b[49m\u001b[43m(\u001b[49m\u001b[43mstart_common\u001b[49m\u001b[43m,\u001b[49m\u001b[43m \u001b[49m\u001b[43mend_common\u001b[49m\u001b[43m)\u001b[49m\n\u001b[1;32m     13\u001b[0m reel_cut \u001b[38;5;241m=\u001b[39m data_E1\u001b[38;5;241m.\u001b[39mtime_slice(start_common, end_common)\n\u001b[1;32m     15\u001b[0m residual \u001b[38;5;241m=\u001b[39m opti_cut \u001b[38;5;241m-\u001b[39m reel_cut \n",
      "File \u001b[0;32m~/miniconda3/envs/pycbc_env/lib/python3.9/site-packages/pycbc/types/timeseries.py:187\u001b[0m, in \u001b[0;36mTimeSeries.time_slice\u001b[0;34m(self, start, end, mode)\u001b[0m\n\u001b[1;32m    184\u001b[0m     \u001b[38;5;28;01mraise\u001b[39;00m \u001b[38;5;167;01mValueError\u001b[39;00m(\u001b[38;5;124m'\u001b[39m\u001b[38;5;124mTime series does not contain a time as early as \u001b[39m\u001b[38;5;132;01m%s\u001b[39;00m\u001b[38;5;124m'\u001b[39m \u001b[38;5;241m%\u001b[39m start)\n\u001b[1;32m    186\u001b[0m \u001b[38;5;28;01mif\u001b[39;00m end \u001b[38;5;241m>\u001b[39m \u001b[38;5;28mself\u001b[39m\u001b[38;5;241m.\u001b[39mend_time:\n\u001b[0;32m--> 187\u001b[0m     \u001b[38;5;28;01mraise\u001b[39;00m \u001b[38;5;167;01mValueError\u001b[39;00m(\u001b[38;5;124m'\u001b[39m\u001b[38;5;124mTime series does not contain a time as late as \u001b[39m\u001b[38;5;132;01m%s\u001b[39;00m\u001b[38;5;124m'\u001b[39m \u001b[38;5;241m%\u001b[39m end)\n\u001b[1;32m    189\u001b[0m start_idx \u001b[38;5;241m=\u001b[39m \u001b[38;5;28mfloat\u001b[39m(start \u001b[38;5;241m-\u001b[39m \u001b[38;5;28mself\u001b[39m\u001b[38;5;241m.\u001b[39mstart_time) \u001b[38;5;241m*\u001b[39m \u001b[38;5;28mself\u001b[39m\u001b[38;5;241m.\u001b[39msample_rate\n\u001b[1;32m    190\u001b[0m end_idx \u001b[38;5;241m=\u001b[39m \u001b[38;5;28mfloat\u001b[39m(end \u001b[38;5;241m-\u001b[39m \u001b[38;5;28mself\u001b[39m\u001b[38;5;241m.\u001b[39mstart_time) \u001b[38;5;241m*\u001b[39m \u001b[38;5;28mself\u001b[39m\u001b[38;5;241m.\u001b[39msample_rate\n",
      "\u001b[0;31mValueError\u001b[0m: Time series does not contain a time as late as 1001620460.6192627"
     ]
    }
   ],
   "source": [
    "signal_reconstructed_f, signal_reconstructed_t = model.reconstruct_signal()\n",
    "\n",
    "print(model.maximized_params)\n",
    "\n",
    "val = data['E1'].value\n",
    "delta_t = data['E1'].dt.value\n",
    "data_E1 = PycbcTimeSeries(val, delta_t=delta_t, epoch = signal_reconstructed_t['E1'].start_time)\n",
    "\n",
    "start_common = max(signal_reconstructed_t['E1'].start_time, data['E1'].t0.value)\n",
    "end_common = min(signal_reconstructed_t['E1'].end_time, data['E1'].t0.value + data['E1'].duration.value)\n",
    "end_common=data['E1'].t0.value + data['E1'].duration.value\n",
    "opti_cut = signal_reconstructed_t['E1'].time_slice(start_common, end_common)\n",
    "reel_cut = data_E1.time_slice(start_common, end_common)\n",
    "\n",
    "residual = opti_cut - reel_cut \n",
    "\n",
    "#Conversion en TimesSeries de gwpy pour le calcul du psd avec .psd().\n",
    "tsgwpy_opti_cut = TimeSeries(data = opti_cut,times=opti_cut.get_sample_times())\n",
    "tsgwpy_reel_cut = TimeSeries(data = reel_cut,times=reel_cut.get_sample_times())\n",
    "tsgwpy_res = TimeSeries(data = residual,times=residual.get_sample_times())\n",
    "\n",
    "#Calcul des psd\n",
    "psd_opti = tsgwpy_opti_cut.psd()\n",
    "psd_reel = data['E1'].psd()\n",
    "psd_res = psd_reel - psd_opti"
   ]
  },
  {
   "cell_type": "code",
   "execution_count": null,
   "id": "f3e6d620",
   "metadata": {},
   "outputs": [],
   "source": [
    "from plot_results import comparison_signals, comparison_freq, qtrans\n",
    "\n",
    "comparison_signals(model,signal_reconstructed_t,data,residual,save_fig=False)"
   ]
  },
  {
   "cell_type": "code",
   "execution_count": null,
   "id": "aea0ed68",
   "metadata": {},
   "outputs": [],
   "source": [
    "comparison_freq(opti_cut,reel_cut,residual,psd_opti,psd_reel,psd_res)"
   ]
  },
  {
   "cell_type": "code",
   "execution_count": null,
   "id": "45ce4bdf",
   "metadata": {},
   "outputs": [],
   "source": [
    "qtrans(tsgwpy_opti_cut)"
   ]
  },
  {
   "cell_type": "code",
   "execution_count": null,
   "id": "6be34b84",
   "metadata": {},
   "outputs": [],
   "source": [
    "qtrans(tsgwpy_res)"
   ]
  },
  {
   "cell_type": "markdown",
   "id": "a8193cfe-cc8d-4549-a245-a50184be3fc7",
   "metadata": {},
   "source": [
    "## 5 - Reconstruct the signal and compare with the injected signal\n",
    "\n",
    "The method reconstruct_signal() builds a signal from the maximized parameters. We can then translate it in the time domain and compare with the true injected signal."
   ]
  },
  {
   "cell_type": "code",
   "execution_count": 20,
   "id": "0f1ef078-dbad-486c-bcbd-4a56a4eab6f2",
   "metadata": {},
   "outputs": [
    {
     "name": "stdout",
     "output_type": "stream",
     "text": [
      "Error: run maximize() method before trying to reconstruct the signal.\n"
     ]
    },
    {
     "ename": "UnboundLocalError",
     "evalue": "local variable 'reconstructed_signal_fdomain' referenced before assignment",
     "output_type": "error",
     "traceback": [
      "\u001b[0;31m---------------------------------------------------------------------------\u001b[0m",
      "\u001b[0;31mUnboundLocalError\u001b[0m                         Traceback (most recent call last)",
      "Cell \u001b[0;32mIn[20], line 1\u001b[0m\n\u001b[0;32m----> 1\u001b[0m signal_reconstructed_f, signal_reconstructed_t \u001b[38;5;241m=\u001b[39m \u001b[43mmodel\u001b[49m\u001b[38;5;241;43m.\u001b[39;49m\u001b[43mreconstruct_signal\u001b[49m\u001b[43m(\u001b[49m\u001b[43m)\u001b[49m\n",
      "File \u001b[0;32m~/Internship_Victor_CBC_ET/code_Adrian/MLE_pipeline/src/likelihood.py:220\u001b[0m, in \u001b[0;36mMDCGaussianNoise.reconstruct_signal\u001b[0;34m(self)\u001b[0m\n\u001b[1;32m    218\u001b[0m reconstructed_signal_tdomain \u001b[38;5;241m=\u001b[39m {}\n\u001b[1;32m    219\u001b[0m \u001b[38;5;28;01mfor\u001b[39;00m ifo \u001b[38;5;129;01min\u001b[39;00m \u001b[38;5;28mself\u001b[39m\u001b[38;5;241m.\u001b[39mifos:\n\u001b[0;32m--> 220\u001b[0m     reconstructed_signal_tdomain[ifo] \u001b[38;5;241m=\u001b[39m \u001b[43mreconstructed_signal_fdomain\u001b[49m[ifo]\u001b[38;5;241m.\u001b[39mto_timeseries() \u001b[38;5;66;03m# Just an inverse FFT\u001b[39;00m\n\u001b[1;32m    222\u001b[0m \u001b[38;5;28;01mreturn\u001b[39;00m reconstructed_signal_fdomain, reconstructed_signal_tdomain\n",
      "\u001b[0;31mUnboundLocalError\u001b[0m: local variable 'reconstructed_signal_fdomain' referenced before assignment"
     ]
    }
   ],
   "source": [
    "signal_reconstructed_f, signal_reconstructed_t = model.reconstruct_signal()"
   ]
  },
  {
   "cell_type": "code",
   "execution_count": 6,
   "id": "a402adb3-2d17-4c28-b3dd-d067a40ffb6d",
   "metadata": {},
   "outputs": [],
   "source": [
    "original_time_domain_signals = {'E1': model.data['E1'].to_timeseries(),\n",
    "                                'E2': model.data['E2'].to_timeseries(),\n",
    "                                'E3': model.data['E3'].to_timeseries(),\n",
    "                               }\n",
    "residuals = subtract_signal(original_time_domain_signals, signal_reconstructed_t)"
   ]
  },
  {
   "cell_type": "code",
   "execution_count": 7,
   "id": "329b15b1-851b-4b85-8f6f-0e7f5ae23b7c",
   "metadata": {},
   "outputs": [
    {
     "data": {
      "text/plain": [
       "<matplotlib.legend.Legend at 0x169327190>"
      ]
     },
     "execution_count": 7,
     "metadata": {},
     "output_type": "execute_result"
    },
    {
     "data": {
      "image/png": "[encoded data removed]",
      "text/plain": [
       "<Figure size 640x480 with 1 Axes>"
      ]
     },
     "metadata": {},
     "output_type": "display_data"
    }
   ],
   "source": [
    "\n",
    "plt.figure()\n",
    "ax = plt.gca()\n",
    "ax.plot(signal_reconstructed_t['E1'].get_sample_times(), signal_reconstructed_t['E1'], label='Reconstructed')\n",
    "ax.plot(original_time_domain_signals['E1'].get_sample_times(), original_time_domain_signals['E1'], label='Injected')\n",
    "ax.plot(residuals['E1'].get_sample_times(), residuals['E1'], label='Residual')\n",
    "\n",
    "ax.legend()\n"
   ]
  },
  {
   "cell_type": "markdown",
   "id": "ddd41c31-13f8-4e21-b12a-3c1be8f55252",
   "metadata": {},
   "source": [
    "### Computing time\n",
    "\n",
    "* The longer the signal is, the longer it takes to generate it and therefore maximize the likelihood. CBC signals become longer when we decrease the minimal frequency and/or the chirp mass.\n",
    "* For the ET MDC, we would ideally want to go down to a minimal frequency of 5 Hz and chirp mass of 1.21 solar masses. In this case the signal lasts more than 6000s. It is possible that it takes too much computing time. If that's the case, we could decide to increase the minimal frequency to keep the computing cost manageable."
   ]
  }
 ],
 "metadata": {
  "kernelspec": {
   "display_name": "cop_adrian",
   "language": "python",
   "name": "python3"
  },
  "language_info": {
   "codemirror_mode": {
    "name": "ipython",
    "version": 3
   },
   "file_extension": ".py",
   "mimetype": "text/x-python",
   "name": "python",
   "nbconvert_exporter": "python",
   "pygments_lexer": "ipython3",
   "version": "3.9.16"
  }
 },
 "nbformat": 4,
 "nbformat_minor": 5
}
