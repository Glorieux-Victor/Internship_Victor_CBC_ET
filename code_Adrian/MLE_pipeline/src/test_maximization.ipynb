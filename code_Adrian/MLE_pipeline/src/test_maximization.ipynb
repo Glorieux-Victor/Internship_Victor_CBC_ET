{
 "cells": [
  {
   "cell_type": "markdown",
   "id": "dbda8440-ea28-423a-9753-69a332646d34",
   "metadata": {},
   "source": [
    "# Test likelihood maximization\n",
    "\n",
    "This notebook tests the maximization function implemented in the `MDCGaussianNoise` class in `likelihood.py`."
   ]
  },
  {
   "cell_type": "code",
   "execution_count": 1,
   "id": "e168612b-2e51-40d7-99bd-2eb34df739a5",
   "metadata": {},
   "outputs": [
    {
     "name": "stderr",
     "output_type": "stream",
     "text": [
      "PyCBC.libutils: pkg-config call failed, setting NO_PKGCONFIG=1\n"
     ]
    }
   ],
   "source": [
    "from generate_data import generate_frequency_domain_signal, default_cbc_params\n",
    "from get_data import get_psd_frequency_series\n",
    "from likelihood import MDCGaussianNoise, get_sensible_bounds\n",
    "import matplotlib.pyplot as plt\n",
    "import matplotlib as mpl\n",
    "mpl.rcParams['xtick.labelsize'] = 12\n",
    "mpl.rcParams['ytick.labelsize'] = 12\n",
    "mpl.rcParams['axes.labelsize'] = 14\n",
    "mpl.rcParams['axes.titlesize'] = 16\n",
    "mpl.rcParams['legend.fontsize'] = 12\n",
    "mpl.rcParams['font.size'] = 12  # global font size\n",
    "import numpy as np"
   ]
  },
  {
   "cell_type": "markdown",
   "id": "4d01151c-4576-496b-bd79-6d64efcd5b74",
   "metadata": {},
   "source": [
    "## 1 - Generate signal\n",
    "\n",
    "First we generate a signal (in the frequency domain) using the functions defined in `generate_signal.py`."
   ]
  },
  {
   "cell_type": "code",
   "execution_count": 35,
   "id": "0df670c9-fa91-472f-9333-b72865b14362",
   "metadata": {},
   "outputs": [
    {
     "name": "stdout",
     "output_type": "stream",
     "text": [
      "Waveform approximate duration: 39.6s\n",
      "Segment duration: 64.0s\n"
     ]
    }
   ],
   "source": [
    "cbc_params = dict(default_cbc_params) # Read the default params dictionary defined in generate_signal.py in order not to rewrite everything.\n",
    "cbc_params['mass1'] = 35\n",
    "cbc_params['mass2'] = 25\n",
    "cbc_params['f_lower'] = 5\n",
    "signal = generate_frequency_domain_signal(cbc_params, ifos=['E1', 'E2', 'E3'])"
   ]
  },
  {
   "cell_type": "markdown",
   "id": "94205230-267a-4ef1-8110-3df820b235f1",
   "metadata": {},
   "source": [
    "## 2 - Create MDCGaussianNoise model\n",
    "\n",
    "We instanciate an MDCGaussianNoise object with the signal we have generated and the PSD used for the ET MDC.\n",
    "\n",
    "Since there is no noise, we verify that the optimal log likelihood is 0 and the optimal log likelihood ratio corresponds to 1/2 of the network SNR. Here \"optimal\" means \"computed for the true parameters of the injected CBC signal\"."
   ]
  },
  {
   "cell_type": "code",
   "execution_count": 36,
   "id": "2ee784a9-73d5-465b-aa54-72136677cd92",
   "metadata": {},
   "outputs": [
    {
     "name": "stdout",
     "output_type": "stream",
     "text": [
      "Optimal log likelihood ratio: 1014.69\n",
      "Optimal log likelihood: 0.00\n",
      "1/2 network SNR: 1014.69\n"
     ]
    }
   ],
   "source": [
    "psd = get_psd_frequency_series(signal['E1'].get_sample_frequencies(), signal['E1'].get_delta_f())\n",
    "psds = {'E1': psd, 'E2': psd, 'E3': psd}\n",
    "\n",
    "# We know the signal parameters so we can define injection_params and compute optimal likelihoods\n",
    "model = MDCGaussianNoise(signal, psds, injection_params=cbc_params, fmin=5)\n",
    "\n",
    "optimal_loglr, optimal_loglikelihood = model.compute_optimal_likelihoods()\n",
    "print('Optimal log likelihood ratio: ' + format(optimal_loglr, '.2f'))\n",
    "print('Optimal log likelihood: ' + format(optimal_loglikelihood, '.2f'))\n",
    "\n",
    "snr_network_sq = model.det_optimal_snrsq('E1') + model.det_optimal_snrsq('E2') + model.det_optimal_snrsq('E3')\n",
    "print('1/2 network SNR: ' + format(0.5 * snr_network_sq, '.2f'))"
   ]
  },
  {
   "cell_type": "markdown",
   "id": "1ce800de-d0c8-4671-8f12-ad563e2fb9d1",
   "metadata": {},
   "source": [
    "## 3 - Maximize the likelihood\n",
    "\n",
    "The method `maximize()` calls `scipy.optimize.differential_evolution()`. We can specify the maximal number of iterations and the tolerance, which are parameters of `differential_evolution()`. This method automatically defines the bounds on the parameters over which to maximize, with a radius of 10% from the true values (for example if the true chirp mass is 30, it will restrict the chirp mass in the range 27, 33). When doing the full analysis of the MDC, we will use greater bounds since we are not supposed to know the true values of the injected signal."
   ]
  },
  {
   "cell_type": "code",
   "execution_count": 37,
   "id": "69a38673-af81-4155-a6ce-9979f6fe8db9",
   "metadata": {},
   "outputs": [
    {
     "name": "stdout",
     "output_type": "stream",
     "text": [
      "Iteration 100: negative_loglr = -958.1935450306835\n",
      "Optimized chirp mass: 25.679784388526006\n",
      "Optimized mass ratio: 1.3952988629188228\n",
      "Maximum log-likelihood ratio: 1012.8723943317041\n",
      "{'mass1': 34.940588123407956, 'mass2': 25.041651686231443, 'spin1z': 0.0, 'spin2z': 0.0, 'ra': 5.59836470277792, 'dec': -1.120037128239277, 'distance': 10147.309335605414, 'inclination': 0.9821102914410741, 'polarization': 5.689862695704308, 'tc': 3.090938078739917, 'coa_phase': 2.5643287143478837, 'spin1x': 0.0, 'spin2x': 0.0, 'spin1y': 0.0, 'spin2y': 0.0, 'eccentricity': 0, 'approximant': 'IMRPhenomD', 'f_lower': 5}\n",
      "{'mass1': 35, 'mass2': 25, 'spin1x': 0.0, 'spin2x': 0.0, 'spin1y': 0.0, 'spin2y': 0.0, 'spin1z': 0, 'spin2z': 0, 'eccentricity': 0, 'ra': 1.37, 'dec': -1.26, 'distance': 10000, 'polarization': 2.76, 'inclination': 0, 'tc': 3.1, 'coa_phase': 0.3, 'approximant': 'IMRPhenomD', 'f_lower': 5}\n"
     ]
    }
   ],
   "source": [
    "res = model.maximize(bounds_method='sensible', max_iterations=100, tol=1e-6)\n",
    "print(model.maximized_params)\n",
    "print(model.injection_params)"
   ]
  },
  {
   "cell_type": "markdown",
   "id": "a8193cfe-cc8d-4549-a245-a50184be3fc7",
   "metadata": {},
   "source": [
    "## 4 - Reconstruct the signal and compare with the injected signal\n",
    "\n",
    "The method reconstruct_signal() builds a signal from the maximized parameters. We can then translate it in the time domain and compare with the true injected signal."
   ]
  },
  {
   "cell_type": "code",
   "execution_count": 39,
   "id": "0f1ef078-dbad-486c-bcbd-4a56a4eab6f2",
   "metadata": {},
   "outputs": [
    {
     "name": "stdout",
     "output_type": "stream",
     "text": [
      "Waveform approximate duration: 39.6s\n",
      "Segment duration: 64.0s\n"
     ]
    }
   ],
   "source": [
    "signal_reconstructed = model.reconstruct_signal()"
   ]
  },
  {
   "cell_type": "code",
   "execution_count": 40,
   "id": "329b15b1-851b-4b85-8f6f-0e7f5ae23b7c",
   "metadata": {},
   "outputs": [
    {
     "data": {
      "text/plain": [
       "<matplotlib.legend.Legend at 0x147415880>"
      ]
     },
     "execution_count": 40,
     "metadata": {},
     "output_type": "execute_result"
    },
    {
     "data": {
      "image/png": "[encoded data removed]",
      "text/plain": [
       "<Figure size 640x480 with 1 Axes>"
      ]
     },
     "metadata": {},
     "output_type": "display_data"
    }
   ],
   "source": [
    "tsd_reconstructed = signal_reconstructed['E1'].to_timeseries()\n",
    "tsd_injected = model.data['E1'].to_timeseries()\n",
    "\n",
    "plt.figure()\n",
    "ax = plt.gca()\n",
    "ax.plot(tsd_reconstructed.get_sample_times(), tsd_reconstructed, label='Reconstructed')\n",
    "ax.plot(tsd_injected.get_sample_times(), tsd_injected, label='Injected')\n",
    "ax.plot(tsd_reconstructed.get_sample_times(), tsd_reconstructed - tsd_injected, label='Residual')\n",
    "\n",
    "ax.legend()\n"
   ]
  },
  {
   "cell_type": "markdown",
   "id": "ddd41c31-13f8-4e21-b12a-3c1be8f55252",
   "metadata": {},
   "source": [
    "### Computing time\n",
    "\n",
    "* The longer the signal is, the longer it takes to generate it and therefore maximize the likelihood. CBC signals become longer when we decrease the minimal frequency and/or the chirp mass.\n",
    "* For the ET MDC, we would ideally want to go down to a minimal frequency of 5 Hz and chirp mass of 1.21 solar masses. In this case the signal lasts more than 6000s. It is possible that it takes too much computing time. If that's the case, we could decide to increase the minimal frequency to keep the computing cost manageable."
   ]
  },
  {
   "cell_type": "code",
   "execution_count": null,
   "id": "cf6d6855-0619-4f94-abd1-b7f690c69461",
   "metadata": {},
   "outputs": [],
   "source": []
  }
 ],
 "metadata": {
  "kernelspec": {
   "display_name": "Python 3 (ipykernel)",
   "language": "python",
   "name": "python3"
  },
  "language_info": {
   "codemirror_mode": {
    "name": "ipython",
    "version": 3
   },
   "file_extension": ".py",
   "mimetype": "text/x-python",
   "name": "python",
   "nbconvert_exporter": "python",
   "pygments_lexer": "ipython3",
   "version": "3.9.18"
  }
 },
 "nbformat": 4,
 "nbformat_minor": 5
}
