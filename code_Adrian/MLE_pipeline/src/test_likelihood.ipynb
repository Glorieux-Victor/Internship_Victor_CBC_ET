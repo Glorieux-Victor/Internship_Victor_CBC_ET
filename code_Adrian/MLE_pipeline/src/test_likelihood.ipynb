{
 "cells": [
  {
   "cell_type": "markdown",
   "id": "dbda8440-ea28-423a-9753-69a332646d34",
   "metadata": {},
   "source": [
    "# Test `MDCGaussianNoise`\n",
    "\n",
    "This notebook tests the class `MDCGaussianNoise` implemented in `likelihood.py`.\n",
    "\n",
    "**Input needed by `MDCGaussianNoise`:**\n",
    "* data : the data segment that we want to analyze. The format should be a dict() where each key represents one detector. The data for each detector should be a pycbc FrequencySeries.\n",
    "* psd : the PSD of the noise (can be estimated or provided, for the moment we just provide it). Same format as *data*.\n",
    "\n",
    "Use `data, psd = get_data.convert_to_frequency_series_with_psd(time_series, return_psd=True)` to get data and psd with the correct format from a dictionary containing gwpy time series read .gwf files.\n",
    "\n",
    "* variable_params : a list of parameters over which we want to maximize. In the most general case it should be ['mass1', 'mass2', 'spin1z', 'spin2z', 'distance', 'polarization', 'inclination', 'tc', 'coa_phase', 'ra', 'dec'], but it is possible to reduce the number of variable parameters to make tests for example.\n",
    "* static_params : a dictionary containing the parameters for which the values are already fixed (in general the spins along the x and y axes).\n",
    "\n",
    "Note that all 15 CBC parameters must be defined, either in *variable_params* or in *static_params*.\n",
    "\n",
    "* approximant and fmin should be defined (the default values 'IMRPhenomXPHM' and 5 Hz are fine).\n",
    "\n",
    "**Optional input:** these are just for testing to compare the values of the parameters we recover to the injected values.\n",
    "* injection_params : a dictionary contaning the parameters of the injected signal if we know them.\n",
    "* injection_network_snr : the network SNR of the signal, as listed in the list of MDC signal (2nd column from the end).\n",
    "\n",
    "**Input needed by `maximize`:**\n",
    "For each variable parameter, bounds must be provided.\n",
    "\n",
    "*Warning:* mass1 and mass2 bounds should be replaced with chirp mass and mass ratio.\n",
    "\n",
    "## Example of workflow\n",
    "\n",
    "1. Read MDC data using `get_data.read_MDC_data()` (for example data around a signal with high SNR).\n",
    "2. Prepare frequency domain data and PSD using `get_data.convert_to_frequency_series_with_psd()`.\n",
    "3. Define variable and static params.\n",
    "4. Instanciate a MDCGaussianNoise object.\n",
    "5. Define bounds for each variable parameter.\n",
    "6. Run `maximize()`.\n",
    "7. Compare recovered parameters to injected ones, if they are known. Compare recovered log likelihood ratio to injected network SNR if it is known.\n",
    "8. Run reconstruct_signal(), then subtract_signal() and compare the original data and the reconstructed signal."
   ]
  },
  {
   "cell_type": "code",
   "execution_count": 1,
   "id": "e168612b-2e51-40d7-99bd-2eb34df739a5",
   "metadata": {},
   "outputs": [
    {
     "name": "stderr",
     "output_type": "stream",
     "text": [
      "/home/victor/miniconda3/envs/pycbc_env/lib/python3.9/site-packages/pykerr/qnm.py:2: UserWarning: pkg_resources is deprecated as an API. See https://setuptools.pypa.io/en/latest/pkg_resources.html. The pkg_resources package is slated for removal as early as 2025-11-30. Refrain from using this package or pin to Setuptools<81.\n",
      "  import pkg_resources\n"
     ]
    }
   ],
   "source": [
    "from generate_data import generate_frequency_domain_signal, default_cbc_params\n",
    "from get_data import get_psd_frequency_series\n",
    "from likelihood import MDCGaussianNoise, subtract_signal\n",
    "import matplotlib.pyplot as plt\n",
    "import matplotlib as mpl\n",
    "mpl.rcParams['xtick.labelsize'] = 12\n",
    "mpl.rcParams['ytick.labelsize'] = 12\n",
    "mpl.rcParams['axes.labelsize'] = 14\n",
    "mpl.rcParams['axes.titlesize'] = 16\n",
    "mpl.rcParams['legend.fontsize'] = 12\n",
    "mpl.rcParams['font.size'] = 12  # global font size\n",
    "import numpy as np"
   ]
  },
  {
   "cell_type": "markdown",
   "id": "4d01151c-4576-496b-bd79-6d64efcd5b74",
   "metadata": {},
   "source": [
    "## 1 - Generate signal\n",
    "\n",
    "First we generate a signal (in the frequency domain) using the functions defined in `generate_signal.py`."
   ]
  },
  {
   "cell_type": "code",
   "execution_count": 14,
   "id": "0df670c9-fa91-472f-9333-b72865b14362",
   "metadata": {},
   "outputs": [
    {
     "name": "stdout",
     "output_type": "stream",
     "text": [
      "Waveform approximate duration: 31.9s\n",
      "Segment duration: 64.0s\n"
     ]
    }
   ],
   "source": [
    "cbc_params = {\n",
    "              'mass1': 38.6,\n",
    "              'mass2': 29.3,\n",
    "              'spin1x': 0., 'spin2x': 0.,  'spin1y': 0., 'spin2y': 0.,  'spin1z': 0, 'spin2z': 0, \n",
    "              'eccentricity': 0,\n",
    "              'ra': 1.37, 'dec': -1.26, 'distance': 10000, \n",
    "              'polarization': 2.76, 'inclination': 0,\n",
    "              'tc': 3.1 , 'coa_phase': 0.3,\n",
    "              'approximant': 'IMRPhenomXPHM',\n",
    "              'f_lower': 5\n",
    "                }\n",
    "signal = generate_frequency_domain_signal(cbc_params, ifos=['E1', 'E2', 'E3'])"
   ]
  },
  {
   "cell_type": "code",
   "execution_count": 2,
   "id": "ed4407ad",
   "metadata": {},
   "outputs": [
    {
     "name": "stderr",
     "output_type": "stream",
     "text": [
      "/home/victor/miniconda3/envs/pycbc_env/lib/python3.9/site-packages/gwpy/timeseries/timeseries.py:930: UserWarning: resample() rate matches current sample_rate (4096.0 Hz), returning input data unmodified; please double-check your parameters\n",
      "  warnings.warn(\n",
      "/home/victor/miniconda3/envs/pycbc_env/lib/python3.9/site-packages/gwpy/timeseries/timeseries.py:930: UserWarning: resample() rate matches current sample_rate (4096.0 Hz), returning input data unmodified; please double-check your parameters\n",
      "  warnings.warn(\n"
     ]
    }
   ],
   "source": [
    "from pycbc.types import FrequencySeries\n",
    "from pycbc.types import TimeSeries as PycbcTimeSeries\n",
    "from gwpy.timeseries import TimeSeries\n",
    "\n",
    "path_data = '/home/victor/Internship_Victor_CBC_ET/code_Adrian/MLE_pipeline/data/'\n",
    "data = {}\n",
    "signal = {}\n",
    "ifos=['E1', 'E2', 'E3']\n",
    "for ifo in ifos:\n",
    "    channel = ifo + ':STRAIN'\n",
    "    file = path_data + 'données_' + ifo + '.txt'\n",
    "    data[ifo] = TimeSeries.read(file)\n",
    "    data[ifo] = data[ifo].resample(4096)\n",
    "    val = data[ifo].value\n",
    "    delta_t = data[ifo].dt.value\n",
    "    pycbc_ts = PycbcTimeSeries(val, delta_t=delta_t)\n",
    "    signal[ifo] = pycbc_ts.to_frequencyseries()"
   ]
  },
  {
   "cell_type": "markdown",
   "id": "94205230-267a-4ef1-8110-3df820b235f1",
   "metadata": {},
   "source": [
    "## 2 - Create MDCGaussianNoise model\n",
    "\n",
    "We instanciate an MDCGaussianNoise object with the signal we have generated and the PSD used for the ET MDC.\n",
    "\n",
    "Since there is no noise, we verify that the optimal log likelihood is 0 and the optimal log likelihood ratio corresponds to 1/2 of the network SNR. Here \"optimal\" means \"computed for the true parameters of the injected CBC signal\".\n",
    "\n",
    "**Variable and static parameters:**\n",
    "* Variable parameters are the ones that we want to maximize over. They are provided as a list.\n",
    "* Static parameters are fixed: they are provided as a dictionary with known values.\n",
    "\n",
    "All CBC parameters defined in *cbc_params* must be either in *variable_params* or defined in *static_params*. The approximant and lower frequency are always static."
   ]
  },
  {
   "cell_type": "code",
   "execution_count": 3,
   "id": "2ee784a9-73d5-465b-aa54-72136677cd92",
   "metadata": {},
   "outputs": [
    {
     "name": "stdout",
     "output_type": "stream",
     "text": [
      "True signal parameters unknown. Cannot compute optimal likelihood.\n",
      "Optimal log likelihood ratio: -1.00\n",
      "Optimal log likelihood: -1.00\n"
     ]
    }
   ],
   "source": [
    "psd = get_psd_frequency_series(signal['E1'].get_sample_frequencies(), signal['E1'].get_delta_f())\n",
    "psds = {'E1': psd, 'E2': psd, 'E3': psd}\n",
    "\n",
    "cbc_params = {\n",
    "              'mass1': 38.6,\n",
    "              'mass2': 29.3,\n",
    "              'spin1x': 0., 'spin2x': 0.,  'spin1y': 0., 'spin2y': 0.,  'spin1z': 0, 'spin2z': 0, \n",
    "              'eccentricity': 0,\n",
    "              'ra': 1.37, 'dec': -1.26, 'distance': 10000, \n",
    "              'polarization': 2.76, 'inclination': 0,\n",
    "              'tc': 3.1 , 'coa_phase': 0.3,\n",
    "              'approximant': 'IMRPhenomXPHM',\n",
    "              'f_lower': 5\n",
    "                }\n",
    "\n",
    "variable_params = ['tc','mass1', 'mass2', 'ra', 'dec', 'distance', 'polarization', 'inclination','spin1z', 'spin2z', 'coa_phase']\n",
    "static_params = dict(cbc_params)\n",
    "for param in variable_params :\n",
    "    del static_params[param]\n",
    "\n",
    "# injection_params=cbc_params\n",
    "# We know the signal parameters so we can define injection_params and compute optimal likelihoods\n",
    "model = MDCGaussianNoise(signal, psds, fmin=5, approximant='IMRPhenomXPHM', variable_params=variable_params,\\\n",
    "                         static_params=static_params, injection_network_snr=1240.9)\n",
    "\n",
    "optimal_loglr, optimal_loglikelihood = model.compute_optimal_likelihoods()\n",
    "print('Optimal log likelihood ratio: ' + format(optimal_loglr, '.2f'))\n",
    "print('Optimal log likelihood: ' + format(optimal_loglikelihood, '.2f'))\n",
    "\n",
    "# snr_network_sq = model.det_optimal_snrsq('E1') + model.det_optimal_snrsq('E2') + model.det_optimal_snrsq('E3')\n",
    "# print('1/2 network SNR: ' + format(0.5 * snr_network_sq, '.2f'))"
   ]
  },
  {
   "cell_type": "markdown",
   "id": "1ce800de-d0c8-4671-8f12-ad563e2fb9d1",
   "metadata": {},
   "source": [
    "## 3 - Maximize the likelihood\n",
    "\n",
    "The method `maximize()` calls `scipy.optimize.differential_evolution()`. We can specify the maximal number of iterations and the tolerance, which are parameters of `differential_evolution()`. This method automatically defines the bounds on the parameters over which to maximize, with a radius of 10% from the true values (for example if the true chirp mass is 30, it will restrict the chirp mass in the range 27, 33). When doing the full analysis of the MDC, we will use greater bounds since we are not supposed to know the true values of the injected signal."
   ]
  },
  {
   "cell_type": "code",
   "execution_count": 4,
   "id": "69a38673-af81-4155-a6ce-9979f6fe8db9",
   "metadata": {},
   "outputs": [
    {
     "name": "stdout",
     "output_type": "stream",
     "text": [
      "-505.549467356287\rIteration 2042: negative_loglr = -505.549467356287\n",
      "Maximization complete\n",
      "Maximum log-likelihood ratio: 505.549467356287\n",
      "{'tc': 1001620460.9993978, 'mass1': 46.677599541265074, 'mass2': 23.455670113275314, 'ra': 2.099882402883601, 'dec': -5.049479472725162, 'distance': 8770.150986615361, 'polarization': 3.036756422436217, 'inclination': 2.2822923058749214, 'spin1z': -0.9345885960957504, 'spin2z': 0.6760178394595278, 'coa_phase': 2.8819821684884688, 'spin1x': 0.0, 'spin2x': 0.0, 'spin1y': 0.0, 'spin2y': 0.0, 'eccentricity': 0, 'approximant': 'IMRPhenomXPHM', 'f_lower': 5}\n",
      "None\n"
     ]
    }
   ],
   "source": [
    "pi2 = 2*np.pi\n",
    "mc_bound = (28, 30)\n",
    "q_bound = (1,2)\n",
    "spin1z_bound = (-0.97,0.97)\n",
    "spin2z_bound = (-0.97,0.97)\n",
    "distance_bound = (10,10000)\n",
    "ra_bound = (0,np.pi)\n",
    "dec_bound = (-pi2,pi2)\n",
    "pola_bound = (0,np.pi)\n",
    "incl_bound = (0,np.pi)\n",
    "tc_bound = (1001620458,1001620461)\n",
    "phase_bound = (0, pi2)\n",
    "bounds = [tc_bound,mc_bound,q_bound,ra_bound,dec_bound,distance_bound,pola_bound,incl_bound,spin1z_bound,spin2z_bound,phase_bound]\n",
    "\n",
    "res = model.maximize(bounds, max_iterations=10000, tol=1e-2)\n",
    "print(model.maximized_params)\n",
    "print(model.injection_params)"
   ]
  },
  {
   "cell_type": "markdown",
   "id": "a8193cfe-cc8d-4549-a245-a50184be3fc7",
   "metadata": {},
   "source": [
    "## 4 - Reconstruct the signal and compare with the injected signal\n",
    "\n",
    "The method reconstruct_signal() builds a signal from the maximized parameters. We can then translate it in the time domain and compare with the true injected signal."
   ]
  },
  {
   "cell_type": "code",
   "execution_count": 5,
   "id": "0f1ef078-dbad-486c-bcbd-4a56a4eab6f2",
   "metadata": {},
   "outputs": [
    {
     "name": "stdout",
     "output_type": "stream",
     "text": [
      "Waveform approximate duration: 33.3s\n",
      "Segment duration: 64.0s\n"
     ]
    }
   ],
   "source": [
    "signal_reconstructed_f, signal_reconstructed_t = model.reconstruct_signal()"
   ]
  },
  {
   "cell_type": "code",
   "execution_count": 6,
   "id": "a402adb3-2d17-4c28-b3dd-d067a40ffb6d",
   "metadata": {},
   "outputs": [],
   "source": [
    "original_time_domain_signals = {'E1': model.data['E1'].to_timeseries(),\n",
    "                                'E2': model.data['E2'].to_timeseries(),\n",
    "                                'E3': model.data['E3'].to_timeseries(),\n",
    "                               }\n",
    "residuals = subtract_signal(original_time_domain_signals, signal_reconstructed_t)"
   ]
  },
  {
   "cell_type": "code",
   "execution_count": 7,
   "id": "329b15b1-851b-4b85-8f6f-0e7f5ae23b7c",
   "metadata": {},
   "outputs": [
    {
     "data": {
      "text/plain": [
       "<matplotlib.legend.Legend at 0x7c0b707b24f0>"
      ]
     },
     "execution_count": 7,
     "metadata": {},
     "output_type": "execute_result"
    },
    {
     "data": {
      "image/png": "[encoded data removed]",
      "text/plain": [
       "<Figure size 640x480 with 1 Axes>"
      ]
     },
     "metadata": {},
     "output_type": "display_data"
    }
   ],
   "source": [
    "\n",
    "plt.figure()\n",
    "ax = plt.gca()\n",
    "ax.plot(signal_reconstructed_t['E1'].get_sample_times(), signal_reconstructed_t['E1'], label='Reconstructed')\n",
    "ax.plot(original_time_domain_signals['E1'].get_sample_times(), original_time_domain_signals['E1'], label='Injected')\n",
    "ax.plot(residuals['E1'].get_sample_times(), residuals['E1'], label='Residual')\n",
    "\n",
    "ax.legend()\n"
   ]
  },
  {
   "cell_type": "markdown",
   "id": "ddd41c31-13f8-4e21-b12a-3c1be8f55252",
   "metadata": {},
   "source": [
    "### Computing time\n",
    "\n",
    "* The longer the signal is, the longer it takes to generate it and therefore maximize the likelihood. CBC signals become longer when we decrease the minimal frequency and/or the chirp mass.\n",
    "* For the ET MDC, we would ideally want to go down to a minimal frequency of 5 Hz and chirp mass of 1.21 solar masses. In this case the signal lasts more than 6000s. It is possible that it takes too much computing time. If that's the case, we could decide to increase the minimal frequency to keep the computing cost manageable."
   ]
  }
 ],
 "metadata": {
  "kernelspec": {
   "display_name": "pycbc_env",
   "language": "python",
   "name": "python3"
  },
  "language_info": {
   "codemirror_mode": {
    "name": "ipython",
    "version": 3
   },
   "file_extension": ".py",
   "mimetype": "text/x-python",
   "name": "python",
   "nbconvert_exporter": "python",
   "pygments_lexer": "ipython3",
   "version": "3.9.21"
  }
 },
 "nbformat": 4,
 "nbformat_minor": 5
}
