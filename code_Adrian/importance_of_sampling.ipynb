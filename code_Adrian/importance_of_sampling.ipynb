{
 "cells": [
  {
   "cell_type": "code",
   "execution_count": 57,
   "id": "005f7d3b-17c1-486b-b2b2-705ce6690201",
   "metadata": {},
   "outputs": [],
   "source": [
    "import matplotlib.pyplot as plt\n",
    "import numpy as np\n",
    "import generation_signal\n",
    "from pycbc.conversions import tau0_from_mass1_mass2"
   ]
  },
  {
   "cell_type": "code",
   "execution_count": 58,
   "id": "fc8c2ffd-ec79-451f-a6f0-fcde5d9b3b2a",
   "metadata": {},
   "outputs": [
    {
     "name": "stdout",
     "output_type": "stream",
     "text": [
      "Signal duration: 31.93s\n"
     ]
    }
   ],
   "source": [
    "seglen = 4\n",
    "sample_rate = 2048\n",
    "fmin = 5.\n",
    "# Paramètres d'un signal de CBC (16 en tout)\n",
    "cbc_params = {\n",
    "            # Paramètres intrinsèques à la source\n",
    "            'mass1': 38.6,\n",
    "            'mass2': 29.3,\n",
    "            'spin1x': 0., 'spin2x': 0.,  'spin1y': 0., 'spin2y': 0.,  'spin1z': 0., 'spin2z': 0.,\n",
    "            'eccentricity': 0,\n",
    "            # Paramètres extrinsèques\n",
    "            'ra': 1.37, 'dec': -1.26, 'distance': 1000,\n",
    "            'polarization': 2.76, 'inclination': 0,\n",
    "            'tc': 3.1 , 'coa_phase': 0}\n",
    "\n",
    "approximant='IMRPhenomD'\n",
    "\n",
    "para_reels = np.array([cbc_params['tc'],cbc_params['mass1'], cbc_params['mass2'],cbc_params['distance'],\n",
    "                       cbc_params['ra'], cbc_params['dec'],cbc_params['polarization'],\n",
    "                       cbc_params['inclination'],cbc_params['spin1z'],cbc_params['spin2z']])\n",
    "\n",
    "signal = generation_signal.Signal_GW(seglen,sample_rate,fmin,cbc_params,approximant)\n",
    "\n",
    "tau0 = tau0_from_mass1_mass2(cbc_params['mass1'], cbc_params['mass2'], fmin)\n",
    "print('Signal duration: ' + format(tau0, '.2f') + 's')"
   ]
  },
  {
   "cell_type": "markdown",
   "id": "8c9dd8a5-1a9f-4e0b-8663-520b9c3032e9",
   "metadata": {},
   "source": [
    "### Importance of having the correct sampling"
   ]
  },
  {
   "cell_type": "code",
   "execution_count": 59,
   "id": "b6c5cf85-9860-4981-93d7-8641073d81a1",
   "metadata": {},
   "outputs": [],
   "source": [
    "signal1 = generation_signal.Signal_GW(4,sample_rate,fmin,cbc_params,approximant)\n",
    "signal_undersampled = signal.signal_ET()\n",
    "\n",
    "signal2 = generation_signal.Signal_GW(100,sample_rate,fmin,cbc_params,approximant)\n",
    "signal_oversampled = signal2.signal_ET()"
   ]
  },
  {
   "cell_type": "code",
   "execution_count": 63,
   "id": "dc948ee8-79fd-4936-afda-7f8ce5fdea67",
   "metadata": {},
   "outputs": [
    {
     "data": {
      "text/plain": [
       "<matplotlib.legend.Legend at 0x17cd9ed60>"
      ]
     },
     "execution_count": 63,
     "metadata": {},
     "output_type": "execute_result"
    },
    {
     "data": {
      "image/png": "[encoded data removed]",
      "text/plain": [
       "<Figure size 640x480 with 1 Axes>"
      ]
     },
     "metadata": {},
     "output_type": "display_data"
    }
   ],
   "source": [
    "tsd1 = signal_undersampled['E1'].to_timeseries()\n",
    "tsd2 = signal_oversampled['E1'].to_timeseries()\n",
    "\n",
    "tsd2 = tsd2.cyclic_time_shift(tsd2.get_sample_times()[-1]-64/2048 - cbc_params['tc'])\n",
    "tsd1 = tsd1.cyclic_time_shift(tsd1.get_sample_times()[-1]-64/2048 - cbc_params['tc'])\n",
    "\n",
    "plt.plot(tsd2.get_sample_times(), tsd2, label='Oversampled')\n",
    "plt.plot(tsd1.get_sample_times(), tsd1, label='Undersampled', alpha=0.7)\n",
    "plt.legend()"
   ]
  },
  {
   "cell_type": "markdown",
   "id": "6d103121-36bc-4039-a3a5-346dd987b1a3",
   "metadata": {},
   "source": [
    "**Interpretation:**\n",
    "Given the masses and minimal frequency requested, we know that the signal has an approximate duration $\\tau_0=31.93$s.\n",
    "\n",
    "When using a value of *seglen* lower than that, e.g 4s, we generate the signal in the frequency domain with a frequency resolution of 1 / 4 Hz (1 / seglen). However since the actual signal is longer than that, we need a lower frequency resolution to accurately describe it. It is like we compress a 32 s signal into 4s so we lose a lot of information. This is why the blue signal does not look like a CBC signal.\n",
    "\n",
    "\n",
    "So when generating waveform in the frequency domain, one needs to make sure that the frequency resolution $\\Delta f$ requested is low enough such that the segment duration $T=1 / \\Delta f$ is larger than the actual duration of the signal. The actual duration of the signal can be approximated by the parameter $\\tau_0$ that depends on the chirp mass and minimal frequency.\n",
    "\n",
    "It is not so much a problem to oversample a signal, that is to take *seglen* larger than the actual signal duration: the corresponding reconstructed signal in the time domain will just be $0$ before the actual start of the signal."
   ]
  },
  {
   "cell_type": "code",
   "execution_count": null,
   "id": "1741bdf6-b806-4425-838f-e6d39778089f",
   "metadata": {},
   "outputs": [],
   "source": []
  }
 ],
 "metadata": {
  "kernelspec": {
   "display_name": "Python 3 (ipykernel)",
   "language": "python",
   "name": "python3"
  },
  "language_info": {
   "codemirror_mode": {
    "name": "ipython",
    "version": 3
   },
   "file_extension": ".py",
   "mimetype": "text/x-python",
   "name": "python",
   "nbconvert_exporter": "python",
   "pygments_lexer": "ipython3",
   "version": "3.9.18"
  }
 },
 "nbformat": 4,
 "nbformat_minor": 5
}
